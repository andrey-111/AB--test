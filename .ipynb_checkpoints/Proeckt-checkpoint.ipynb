{
 "cells": [
  {
   "cell_type": "code",
   "execution_count": 148,
   "metadata": {},
   "outputs": [],
   "source": [
    "import pandas as pd\n",
    "import numpy as np\n",
    "from urllib.parse import urlencode\n",
    "import requests\n",
    "import json\n",
    "import scipy.stats\n",
    "from scipy import stats\n",
    "from scipy.stats import f_oneway, norm, mannwhitneyu, chi2_contingency, shapiro, f\n",
    "import os\n",
    "from tqdm.auto import tqdm\n",
    "import seaborn as sns\n",
    "import datetime as dt\n",
    "import matplotlib.pyplot as plt\n",
    "%matplotlib inline\n"
   ]
  },
  {
   "cell_type": "code",
   "execution_count": 149,
   "metadata": {},
   "outputs": [],
   "source": [
    "base_url = 'https://cloud-api.yandex.net/v1/disk/public/resources/download?' \n",
    "test = 'https://disk.yandex.ru/d/4XXIME4osGrMRA'\n",
    "test_control = 'https://disk.yandex.ru/d/yJFydMNNGkEKfg'\n",
    "test_control_2 = 'https://disk.yandex.ru/d/br6KkQupzzTGoQ'\n",
    "transactions_test = 'https://disk.yandex.ru/d/gvCWpZ55ODzs2g'\n",
    "transactions_control_1 = 'https://disk.yandex.ru/d/VY5W0keMX5TZBQ'\n",
    "transactions_control_2 = 'https://disk.yandex.ru/d/th5GL0mGOc-qzg'\n",
    "final_url = base_url + urlencode(dict(public_key=test)) \n",
    "df_test = pd.read_csv(requests.get(final_url).json()['href'], sep = ';')\n",
    "final_url_1 = base_url + urlencode(dict(public_key=test_control)) \n",
    "df_control_1 = pd.read_csv(requests.get(final_url_1).json()['href'], sep = ';')\n",
    "final_url_2 = base_url + urlencode(dict(public_key=test_control_2)) \n",
    "df_control_2 = pd.read_csv(requests.get(final_url_2).json()['href'], sep = ';')\n",
    "\n",
    "final_url_3 = base_url + urlencode(dict(public_key=transactions_test)) \n",
    "df_test_transactions = pd.read_csv(requests.get(final_url_3).json()['href'], sep = ';')\n",
    "final_url_4 = base_url + urlencode(dict(public_key=transactions_control_1)) \n",
    "df_control_1_transactions = pd.read_csv(requests.get(final_url_4).json()['href'], sep = ';')\n",
    "final_url_5 = base_url + urlencode(dict(public_key=transactions_control_2)) \n",
    "df_control_2_transactions = pd.read_csv(requests.get(final_url_5).json()['href'], sep = ';')"
   ]
  },
  {
   "cell_type": "markdown",
   "metadata": {},
   "source": [
    " Для предварительной оценки, посмотрим на структуру датафреймов, количество строк, столбцов и типы данных представленных в них.\n",
    "    "
   ]
  },
  {
   "cell_type": "code",
   "execution_count": 150,
   "metadata": {},
   "outputs": [
    {
     "data": {
      "text/html": [
       "<div>\n",
       "<style scoped>\n",
       "    .dataframe tbody tr th:only-of-type {\n",
       "        vertical-align: middle;\n",
       "    }\n",
       "\n",
       "    .dataframe tbody tr th {\n",
       "        vertical-align: top;\n",
       "    }\n",
       "\n",
       "    .dataframe thead th {\n",
       "        text-align: right;\n",
       "    }\n",
       "</style>\n",
       "<table border=\"1\" class=\"dataframe\">\n",
       "  <thead>\n",
       "    <tr style=\"text-align: right;\">\n",
       "      <th></th>\n",
       "      <th>uid</th>\n",
       "      <th>age</th>\n",
       "      <th>attraction_coeff</th>\n",
       "      <th>coins</th>\n",
       "      <th>country</th>\n",
       "      <th>visit_days</th>\n",
       "      <th>gender</th>\n",
       "      <th>age_filter_start</th>\n",
       "      <th>age_filter_end</th>\n",
       "      <th>views_count</th>\n",
       "      <th>was_premium</th>\n",
       "      <th>is_premium</th>\n",
       "      <th>total_revenue</th>\n",
       "    </tr>\n",
       "  </thead>\n",
       "  <tbody>\n",
       "    <tr>\n",
       "      <th>0</th>\n",
       "      <td>892309896</td>\n",
       "      <td>27</td>\n",
       "      <td>685</td>\n",
       "      <td>NaN</td>\n",
       "      <td>United States of America</td>\n",
       "      <td>1,2,3,4,5,6,7,8,9,10,11,12,16,17</td>\n",
       "      <td>1</td>\n",
       "      <td>24</td>\n",
       "      <td>30</td>\n",
       "      <td>89</td>\n",
       "      <td>NaN</td>\n",
       "      <td>NaN</td>\n",
       "      <td>0</td>\n",
       "    </tr>\n",
       "    <tr>\n",
       "      <th>1</th>\n",
       "      <td>892044516</td>\n",
       "      <td>27</td>\n",
       "      <td>0</td>\n",
       "      <td>NaN</td>\n",
       "      <td>Germany</td>\n",
       "      <td>NaN</td>\n",
       "      <td>1</td>\n",
       "      <td>24</td>\n",
       "      <td>30</td>\n",
       "      <td>0</td>\n",
       "      <td>NaN</td>\n",
       "      <td>NaN</td>\n",
       "      <td>0</td>\n",
       "    </tr>\n",
       "    <tr>\n",
       "      <th>2</th>\n",
       "      <td>892185708</td>\n",
       "      <td>45</td>\n",
       "      <td>44</td>\n",
       "      <td>NaN</td>\n",
       "      <td>Israel</td>\n",
       "      <td>1,3,4,6,7,8,10,11,12,13,14,15,16,17,18,19,20,2...</td>\n",
       "      <td>1</td>\n",
       "      <td>42</td>\n",
       "      <td>48</td>\n",
       "      <td>68</td>\n",
       "      <td>NaN</td>\n",
       "      <td>NaN</td>\n",
       "      <td>0</td>\n",
       "    </tr>\n",
       "    <tr>\n",
       "      <th>3</th>\n",
       "      <td>892130292</td>\n",
       "      <td>32</td>\n",
       "      <td>0</td>\n",
       "      <td>NaN</td>\n",
       "      <td>United States of America</td>\n",
       "      <td>1,2,3,4,5,6,7,8,9,10,11,12</td>\n",
       "      <td>1</td>\n",
       "      <td>29</td>\n",
       "      <td>35</td>\n",
       "      <td>0</td>\n",
       "      <td>NaN</td>\n",
       "      <td>NaN</td>\n",
       "      <td>0</td>\n",
       "    </tr>\n",
       "    <tr>\n",
       "      <th>4</th>\n",
       "      <td>891406035</td>\n",
       "      <td>27</td>\n",
       "      <td>1000</td>\n",
       "      <td>NaN</td>\n",
       "      <td>France</td>\n",
       "      <td>NaN</td>\n",
       "      <td>1</td>\n",
       "      <td>24</td>\n",
       "      <td>30</td>\n",
       "      <td>1</td>\n",
       "      <td>1.0</td>\n",
       "      <td>NaN</td>\n",
       "      <td>0</td>\n",
       "    </tr>\n",
       "  </tbody>\n",
       "</table>\n",
       "</div>"
      ],
      "text/plain": [
       "         uid  age  attraction_coeff  coins                   country  \\\n",
       "0  892309896   27               685    NaN  United States of America   \n",
       "1  892044516   27                 0    NaN                   Germany   \n",
       "2  892185708   45                44    NaN                    Israel   \n",
       "3  892130292   32                 0    NaN  United States of America   \n",
       "4  891406035   27              1000    NaN                    France   \n",
       "\n",
       "                                          visit_days  gender  \\\n",
       "0                   1,2,3,4,5,6,7,8,9,10,11,12,16,17       1   \n",
       "1                                                NaN       1   \n",
       "2  1,3,4,6,7,8,10,11,12,13,14,15,16,17,18,19,20,2...       1   \n",
       "3                         1,2,3,4,5,6,7,8,9,10,11,12       1   \n",
       "4                                                NaN       1   \n",
       "\n",
       "   age_filter_start  age_filter_end  views_count  was_premium  is_premium  \\\n",
       "0                24              30           89          NaN         NaN   \n",
       "1                24              30            0          NaN         NaN   \n",
       "2                42              48           68          NaN         NaN   \n",
       "3                29              35            0          NaN         NaN   \n",
       "4                24              30            1          1.0         NaN   \n",
       "\n",
       "   total_revenue  \n",
       "0              0  \n",
       "1              0  \n",
       "2              0  \n",
       "3              0  \n",
       "4              0  "
      ]
     },
     "execution_count": 150,
     "metadata": {},
     "output_type": "execute_result"
    }
   ],
   "source": [
    "df_test.head()"
   ]
  },
  {
   "cell_type": "code",
   "execution_count": 151,
   "metadata": {},
   "outputs": [
    {
     "data": {
      "text/plain": [
       "(4308, 13)"
      ]
     },
     "execution_count": 151,
     "metadata": {},
     "output_type": "execute_result"
    }
   ],
   "source": [
    "df_test.shape"
   ]
  },
  {
   "cell_type": "code",
   "execution_count": 152,
   "metadata": {},
   "outputs": [
    {
     "data": {
      "text/plain": [
       "uid                   int64\n",
       "age                   int64\n",
       "attraction_coeff      int64\n",
       "coins               float64\n",
       "country              object\n",
       "visit_days           object\n",
       "gender                int64\n",
       "age_filter_start      int64\n",
       "age_filter_end        int64\n",
       "views_count           int64\n",
       "was_premium         float64\n",
       "is_premium          float64\n",
       "total_revenue         int64\n",
       "dtype: object"
      ]
     },
     "execution_count": 152,
     "metadata": {},
     "output_type": "execute_result"
    }
   ],
   "source": [
    "df_test.dtypes"
   ]
  },
  {
   "cell_type": "code",
   "execution_count": 153,
   "metadata": {},
   "outputs": [
    {
     "data": {
      "text/html": [
       "<div>\n",
       "<style scoped>\n",
       "    .dataframe tbody tr th:only-of-type {\n",
       "        vertical-align: middle;\n",
       "    }\n",
       "\n",
       "    .dataframe tbody tr th {\n",
       "        vertical-align: top;\n",
       "    }\n",
       "\n",
       "    .dataframe thead th {\n",
       "        text-align: right;\n",
       "    }\n",
       "</style>\n",
       "<table border=\"1\" class=\"dataframe\">\n",
       "  <thead>\n",
       "    <tr style=\"text-align: right;\">\n",
       "      <th></th>\n",
       "      <th>uid</th>\n",
       "      <th>age</th>\n",
       "      <th>attraction_coeff</th>\n",
       "      <th>coins</th>\n",
       "      <th>country</th>\n",
       "      <th>visit_days</th>\n",
       "      <th>gender</th>\n",
       "      <th>age_filter_start</th>\n",
       "      <th>age_filter_end</th>\n",
       "      <th>views_count</th>\n",
       "      <th>was_premium</th>\n",
       "      <th>is_premium</th>\n",
       "      <th>total_revenue</th>\n",
       "    </tr>\n",
       "  </thead>\n",
       "  <tbody>\n",
       "    <tr>\n",
       "      <th>0</th>\n",
       "      <td>892319115</td>\n",
       "      <td>25</td>\n",
       "      <td>435</td>\n",
       "      <td>NaN</td>\n",
       "      <td>United States of America</td>\n",
       "      <td>1,2,3,4,5,6</td>\n",
       "      <td>0</td>\n",
       "      <td>22</td>\n",
       "      <td>32</td>\n",
       "      <td>982</td>\n",
       "      <td>NaN</td>\n",
       "      <td>NaN</td>\n",
       "      <td>0</td>\n",
       "    </tr>\n",
       "    <tr>\n",
       "      <th>1</th>\n",
       "      <td>891248523</td>\n",
       "      <td>29</td>\n",
       "      <td>500</td>\n",
       "      <td>NaN</td>\n",
       "      <td>United States of America</td>\n",
       "      <td>1,2</td>\n",
       "      <td>1</td>\n",
       "      <td>26</td>\n",
       "      <td>32</td>\n",
       "      <td>12</td>\n",
       "      <td>NaN</td>\n",
       "      <td>NaN</td>\n",
       "      <td>0</td>\n",
       "    </tr>\n",
       "    <tr>\n",
       "      <th>2</th>\n",
       "      <td>891670932</td>\n",
       "      <td>33</td>\n",
       "      <td>800</td>\n",
       "      <td>NaN</td>\n",
       "      <td>France</td>\n",
       "      <td>1,2,3,5,6,8,9,11,13,16</td>\n",
       "      <td>1</td>\n",
       "      <td>30</td>\n",
       "      <td>36</td>\n",
       "      <td>5</td>\n",
       "      <td>NaN</td>\n",
       "      <td>NaN</td>\n",
       "      <td>0</td>\n",
       "    </tr>\n",
       "    <tr>\n",
       "      <th>3</th>\n",
       "      <td>891060786</td>\n",
       "      <td>26</td>\n",
       "      <td>0</td>\n",
       "      <td>NaN</td>\n",
       "      <td>Argentina</td>\n",
       "      <td>1,2,3,4,5</td>\n",
       "      <td>1</td>\n",
       "      <td>23</td>\n",
       "      <td>29</td>\n",
       "      <td>0</td>\n",
       "      <td>NaN</td>\n",
       "      <td>NaN</td>\n",
       "      <td>0</td>\n",
       "    </tr>\n",
       "    <tr>\n",
       "      <th>4</th>\n",
       "      <td>892006554</td>\n",
       "      <td>35</td>\n",
       "      <td>294</td>\n",
       "      <td>NaN</td>\n",
       "      <td>United States of America</td>\n",
       "      <td>1,2,3,5,6,7,8,9,10,12,15,16,17,19</td>\n",
       "      <td>1</td>\n",
       "      <td>30</td>\n",
       "      <td>40</td>\n",
       "      <td>17</td>\n",
       "      <td>NaN</td>\n",
       "      <td>NaN</td>\n",
       "      <td>0</td>\n",
       "    </tr>\n",
       "  </tbody>\n",
       "</table>\n",
       "</div>"
      ],
      "text/plain": [
       "         uid  age  attraction_coeff  coins                   country  \\\n",
       "0  892319115   25               435    NaN  United States of America   \n",
       "1  891248523   29               500    NaN  United States of America   \n",
       "2  891670932   33               800    NaN                    France   \n",
       "3  891060786   26                 0    NaN                 Argentina   \n",
       "4  892006554   35               294    NaN  United States of America   \n",
       "\n",
       "                          visit_days  gender  age_filter_start  \\\n",
       "0                        1,2,3,4,5,6       0                22   \n",
       "1                                1,2       1                26   \n",
       "2             1,2,3,5,6,8,9,11,13,16       1                30   \n",
       "3                          1,2,3,4,5       1                23   \n",
       "4  1,2,3,5,6,7,8,9,10,12,15,16,17,19       1                30   \n",
       "\n",
       "   age_filter_end  views_count  was_premium  is_premium  total_revenue  \n",
       "0              32          982          NaN         NaN              0  \n",
       "1              32           12          NaN         NaN              0  \n",
       "2              36            5          NaN         NaN              0  \n",
       "3              29            0          NaN         NaN              0  \n",
       "4              40           17          NaN         NaN              0  "
      ]
     },
     "execution_count": 153,
     "metadata": {},
     "output_type": "execute_result"
    }
   ],
   "source": [
    "df_control_1.head()"
   ]
  },
  {
   "cell_type": "code",
   "execution_count": 154,
   "metadata": {},
   "outputs": [
    {
     "data": {
      "text/plain": [
       "(4340, 13)"
      ]
     },
     "execution_count": 154,
     "metadata": {},
     "output_type": "execute_result"
    }
   ],
   "source": [
    "df_control_1.shape"
   ]
  },
  {
   "cell_type": "code",
   "execution_count": 155,
   "metadata": {},
   "outputs": [
    {
     "data": {
      "text/plain": [
       "uid                   int64\n",
       "age                   int64\n",
       "attraction_coeff      int64\n",
       "coins               float64\n",
       "country              object\n",
       "visit_days           object\n",
       "gender                int64\n",
       "age_filter_start      int64\n",
       "age_filter_end        int64\n",
       "views_count           int64\n",
       "was_premium         float64\n",
       "is_premium          float64\n",
       "total_revenue         int64\n",
       "dtype: object"
      ]
     },
     "execution_count": 155,
     "metadata": {},
     "output_type": "execute_result"
    }
   ],
   "source": [
    "df_control_1.dtypes"
   ]
  },
  {
   "cell_type": "code",
   "execution_count": 156,
   "metadata": {},
   "outputs": [
    {
     "data": {
      "text/html": [
       "<div>\n",
       "<style scoped>\n",
       "    .dataframe tbody tr th:only-of-type {\n",
       "        vertical-align: middle;\n",
       "    }\n",
       "\n",
       "    .dataframe tbody tr th {\n",
       "        vertical-align: top;\n",
       "    }\n",
       "\n",
       "    .dataframe thead th {\n",
       "        text-align: right;\n",
       "    }\n",
       "</style>\n",
       "<table border=\"1\" class=\"dataframe\">\n",
       "  <thead>\n",
       "    <tr style=\"text-align: right;\">\n",
       "      <th></th>\n",
       "      <th>uid</th>\n",
       "      <th>age</th>\n",
       "      <th>attraction_coeff</th>\n",
       "      <th>coins</th>\n",
       "      <th>country</th>\n",
       "      <th>visit_days</th>\n",
       "      <th>gender</th>\n",
       "      <th>age_filter_start</th>\n",
       "      <th>age_filter_end</th>\n",
       "      <th>views_count</th>\n",
       "      <th>was_premium</th>\n",
       "      <th>is_premium</th>\n",
       "      <th>total_revenue</th>\n",
       "    </tr>\n",
       "  </thead>\n",
       "  <tbody>\n",
       "    <tr>\n",
       "      <th>0</th>\n",
       "      <td>892035504</td>\n",
       "      <td>37</td>\n",
       "      <td>137</td>\n",
       "      <td>NaN</td>\n",
       "      <td>Israel</td>\n",
       "      <td>1,2,3,4,5,6,7,8,9,11,13</td>\n",
       "      <td>1</td>\n",
       "      <td>30</td>\n",
       "      <td>40</td>\n",
       "      <td>51</td>\n",
       "      <td>NaN</td>\n",
       "      <td>NaN</td>\n",
       "      <td>0</td>\n",
       "    </tr>\n",
       "    <tr>\n",
       "      <th>1</th>\n",
       "      <td>891782112</td>\n",
       "      <td>57</td>\n",
       "      <td>0</td>\n",
       "      <td>NaN</td>\n",
       "      <td>Italy</td>\n",
       "      <td>1</td>\n",
       "      <td>1</td>\n",
       "      <td>54</td>\n",
       "      <td>60</td>\n",
       "      <td>0</td>\n",
       "      <td>NaN</td>\n",
       "      <td>NaN</td>\n",
       "      <td>0</td>\n",
       "    </tr>\n",
       "    <tr>\n",
       "      <th>2</th>\n",
       "      <td>891110337</td>\n",
       "      <td>30</td>\n",
       "      <td>769</td>\n",
       "      <td>NaN</td>\n",
       "      <td>France</td>\n",
       "      <td>1,2,3,4,5</td>\n",
       "      <td>1</td>\n",
       "      <td>27</td>\n",
       "      <td>33</td>\n",
       "      <td>13</td>\n",
       "      <td>NaN</td>\n",
       "      <td>NaN</td>\n",
       "      <td>0</td>\n",
       "    </tr>\n",
       "    <tr>\n",
       "      <th>3</th>\n",
       "      <td>891796320</td>\n",
       "      <td>48</td>\n",
       "      <td>750</td>\n",
       "      <td>NaN</td>\n",
       "      <td>France</td>\n",
       "      <td>1,4,6,8,10,11,12,14,15,16,18</td>\n",
       "      <td>1</td>\n",
       "      <td>45</td>\n",
       "      <td>51</td>\n",
       "      <td>12</td>\n",
       "      <td>NaN</td>\n",
       "      <td>NaN</td>\n",
       "      <td>0</td>\n",
       "    </tr>\n",
       "    <tr>\n",
       "      <th>4</th>\n",
       "      <td>891880212</td>\n",
       "      <td>54</td>\n",
       "      <td>638</td>\n",
       "      <td>NaN</td>\n",
       "      <td>United States of America</td>\n",
       "      <td>1</td>\n",
       "      <td>1</td>\n",
       "      <td>35</td>\n",
       "      <td>53</td>\n",
       "      <td>94</td>\n",
       "      <td>NaN</td>\n",
       "      <td>NaN</td>\n",
       "      <td>0</td>\n",
       "    </tr>\n",
       "  </tbody>\n",
       "</table>\n",
       "</div>"
      ],
      "text/plain": [
       "         uid  age  attraction_coeff  coins                   country  \\\n",
       "0  892035504   37               137    NaN                    Israel   \n",
       "1  891782112   57                 0    NaN                     Italy   \n",
       "2  891110337   30               769    NaN                    France   \n",
       "3  891796320   48               750    NaN                    France   \n",
       "4  891880212   54               638    NaN  United States of America   \n",
       "\n",
       "                     visit_days  gender  age_filter_start  age_filter_end  \\\n",
       "0       1,2,3,4,5,6,7,8,9,11,13       1                30              40   \n",
       "1                             1       1                54              60   \n",
       "2                     1,2,3,4,5       1                27              33   \n",
       "3  1,4,6,8,10,11,12,14,15,16,18       1                45              51   \n",
       "4                             1       1                35              53   \n",
       "\n",
       "   views_count  was_premium  is_premium  total_revenue  \n",
       "0           51          NaN         NaN              0  \n",
       "1            0          NaN         NaN              0  \n",
       "2           13          NaN         NaN              0  \n",
       "3           12          NaN         NaN              0  \n",
       "4           94          NaN         NaN              0  "
      ]
     },
     "execution_count": 156,
     "metadata": {},
     "output_type": "execute_result"
    }
   ],
   "source": [
    "df_control_2.head()"
   ]
  },
  {
   "cell_type": "code",
   "execution_count": 157,
   "metadata": {},
   "outputs": [
    {
     "data": {
      "text/plain": [
       "(4264, 13)"
      ]
     },
     "execution_count": 157,
     "metadata": {},
     "output_type": "execute_result"
    }
   ],
   "source": [
    "df_control_2.shape"
   ]
  },
  {
   "cell_type": "code",
   "execution_count": 158,
   "metadata": {},
   "outputs": [
    {
     "data": {
      "text/plain": [
       "uid                   int64\n",
       "age                   int64\n",
       "attraction_coeff      int64\n",
       "coins               float64\n",
       "country              object\n",
       "visit_days           object\n",
       "gender                int64\n",
       "age_filter_start      int64\n",
       "age_filter_end        int64\n",
       "views_count           int64\n",
       "was_premium         float64\n",
       "is_premium          float64\n",
       "total_revenue         int64\n",
       "dtype: object"
      ]
     },
     "execution_count": 158,
     "metadata": {},
     "output_type": "execute_result"
    }
   ],
   "source": [
    "df_control_2.dtypes"
   ]
  },
  {
   "cell_type": "code",
   "execution_count": 159,
   "metadata": {},
   "outputs": [
    {
     "data": {
      "text/html": [
       "<div>\n",
       "<style scoped>\n",
       "    .dataframe tbody tr th:only-of-type {\n",
       "        vertical-align: middle;\n",
       "    }\n",
       "\n",
       "    .dataframe tbody tr th {\n",
       "        vertical-align: top;\n",
       "    }\n",
       "\n",
       "    .dataframe thead th {\n",
       "        text-align: right;\n",
       "    }\n",
       "</style>\n",
       "<table border=\"1\" class=\"dataframe\">\n",
       "  <thead>\n",
       "    <tr style=\"text-align: right;\">\n",
       "      <th></th>\n",
       "      <th>uid</th>\n",
       "      <th>country</th>\n",
       "      <th>joined_at</th>\n",
       "      <th>paid_at</th>\n",
       "      <th>revenue</th>\n",
       "      <th>payment_id</th>\n",
       "      <th>from_page</th>\n",
       "      <th>product_type</th>\n",
       "    </tr>\n",
       "  </thead>\n",
       "  <tbody>\n",
       "    <tr>\n",
       "      <th>0</th>\n",
       "      <td>891345942</td>\n",
       "      <td>Italy</td>\n",
       "      <td>2017-05-11 13:00:00</td>\n",
       "      <td>2017-11-13 15:04:00</td>\n",
       "      <td>12909</td>\n",
       "      <td>147</td>\n",
       "      <td>trial_vip_popup</td>\n",
       "      <td>trial_premium</td>\n",
       "    </tr>\n",
       "    <tr>\n",
       "      <th>1</th>\n",
       "      <td>892054251</td>\n",
       "      <td>United States of America</td>\n",
       "      <td>2017-10-22 00:33:00</td>\n",
       "      <td>2017-10-30 01:37:00</td>\n",
       "      <td>13923</td>\n",
       "      <td>147</td>\n",
       "      <td>trial_vip_popup</td>\n",
       "      <td>trial_premium</td>\n",
       "    </tr>\n",
       "    <tr>\n",
       "      <th>2</th>\n",
       "      <td>892236423</td>\n",
       "      <td>United States of America</td>\n",
       "      <td>2017-10-18 01:09:00</td>\n",
       "      <td>2017-10-23 00:15:00</td>\n",
       "      <td>3783</td>\n",
       "      <td>67</td>\n",
       "      <td>menu</td>\n",
       "      <td>other_type</td>\n",
       "    </tr>\n",
       "    <tr>\n",
       "      <th>3</th>\n",
       "      <td>892236423</td>\n",
       "      <td>United States of America</td>\n",
       "      <td>2017-10-18 01:09:00</td>\n",
       "      <td>2017-10-27 22:38:00</td>\n",
       "      <td>3783</td>\n",
       "      <td>67</td>\n",
       "      <td>menu</td>\n",
       "      <td>other_type</td>\n",
       "    </tr>\n",
       "    <tr>\n",
       "      <th>4</th>\n",
       "      <td>892168170</td>\n",
       "      <td>United States of America</td>\n",
       "      <td>2017-10-19 17:10:00</td>\n",
       "      <td>2017-10-27 19:10:00</td>\n",
       "      <td>9087</td>\n",
       "      <td>147</td>\n",
       "      <td>trial_vip_popup</td>\n",
       "      <td>trial_premium</td>\n",
       "    </tr>\n",
       "    <tr>\n",
       "      <th>...</th>\n",
       "      <td>...</td>\n",
       "      <td>...</td>\n",
       "      <td>...</td>\n",
       "      <td>...</td>\n",
       "      <td>...</td>\n",
       "      <td>...</td>\n",
       "      <td>...</td>\n",
       "      <td>...</td>\n",
       "    </tr>\n",
       "    <tr>\n",
       "      <th>268</th>\n",
       "      <td>891419625</td>\n",
       "      <td>Israel</td>\n",
       "      <td>2017-04-11 05:58:00</td>\n",
       "      <td>2017-11-11 08:33:00</td>\n",
       "      <td>14352</td>\n",
       "      <td>147</td>\n",
       "      <td>trial_vip_popup</td>\n",
       "      <td>trial_premium</td>\n",
       "    </tr>\n",
       "    <tr>\n",
       "      <th>269</th>\n",
       "      <td>891447105</td>\n",
       "      <td>United Kingdom (Great Britain)</td>\n",
       "      <td>2017-03-11 17:05:00</td>\n",
       "      <td>2017-11-11 04:23:00</td>\n",
       "      <td>7319</td>\n",
       "      <td>147</td>\n",
       "      <td>fans</td>\n",
       "      <td>premium_no_trial</td>\n",
       "    </tr>\n",
       "    <tr>\n",
       "      <th>270</th>\n",
       "      <td>891497073</td>\n",
       "      <td>United States of America</td>\n",
       "      <td>2017-02-11 15:33:00</td>\n",
       "      <td>2017-05-11 04:06:00</td>\n",
       "      <td>2730</td>\n",
       "      <td>67</td>\n",
       "      <td>empty_likes</td>\n",
       "      <td>other_type</td>\n",
       "    </tr>\n",
       "    <tr>\n",
       "      <th>271</th>\n",
       "      <td>891406224</td>\n",
       "      <td>Israel</td>\n",
       "      <td>2017-04-11 12:56:00</td>\n",
       "      <td>2017-04-11 13:35:00</td>\n",
       "      <td>2743</td>\n",
       "      <td>67</td>\n",
       "      <td>empty_likes</td>\n",
       "      <td>other_type</td>\n",
       "    </tr>\n",
       "    <tr>\n",
       "      <th>272</th>\n",
       "      <td>891499359</td>\n",
       "      <td>Germany</td>\n",
       "      <td>2017-02-11 14:25:00</td>\n",
       "      <td>2017-02-11 14:30:00</td>\n",
       "      <td>1599</td>\n",
       "      <td>19</td>\n",
       "      <td>none</td>\n",
       "      <td>coins</td>\n",
       "    </tr>\n",
       "  </tbody>\n",
       "</table>\n",
       "<p>273 rows × 8 columns</p>\n",
       "</div>"
      ],
      "text/plain": [
       "           uid                         country            joined_at  \\\n",
       "0    891345942                           Italy  2017-05-11 13:00:00   \n",
       "1    892054251        United States of America  2017-10-22 00:33:00   \n",
       "2    892236423        United States of America  2017-10-18 01:09:00   \n",
       "3    892236423        United States of America  2017-10-18 01:09:00   \n",
       "4    892168170        United States of America  2017-10-19 17:10:00   \n",
       "..         ...                             ...                  ...   \n",
       "268  891419625                          Israel  2017-04-11 05:58:00   \n",
       "269  891447105  United Kingdom (Great Britain)  2017-03-11 17:05:00   \n",
       "270  891497073        United States of America  2017-02-11 15:33:00   \n",
       "271  891406224                          Israel  2017-04-11 12:56:00   \n",
       "272  891499359                         Germany  2017-02-11 14:25:00   \n",
       "\n",
       "                 paid_at  revenue  payment_id        from_page  \\\n",
       "0    2017-11-13 15:04:00    12909         147  trial_vip_popup   \n",
       "1    2017-10-30 01:37:00    13923         147  trial_vip_popup   \n",
       "2    2017-10-23 00:15:00     3783          67             menu   \n",
       "3    2017-10-27 22:38:00     3783          67             menu   \n",
       "4    2017-10-27 19:10:00     9087         147  trial_vip_popup   \n",
       "..                   ...      ...         ...              ...   \n",
       "268  2017-11-11 08:33:00    14352         147  trial_vip_popup   \n",
       "269  2017-11-11 04:23:00     7319         147             fans   \n",
       "270  2017-05-11 04:06:00     2730          67      empty_likes   \n",
       "271  2017-04-11 13:35:00     2743          67      empty_likes   \n",
       "272  2017-02-11 14:30:00     1599          19             none   \n",
       "\n",
       "         product_type  \n",
       "0       trial_premium  \n",
       "1       trial_premium  \n",
       "2          other_type  \n",
       "3          other_type  \n",
       "4       trial_premium  \n",
       "..                ...  \n",
       "268     trial_premium  \n",
       "269  premium_no_trial  \n",
       "270        other_type  \n",
       "271        other_type  \n",
       "272             coins  \n",
       "\n",
       "[273 rows x 8 columns]"
      ]
     },
     "execution_count": 159,
     "metadata": {},
     "output_type": "execute_result"
    }
   ],
   "source": [
    "df_test_transactions"
   ]
  },
  {
   "cell_type": "code",
   "execution_count": 160,
   "metadata": {},
   "outputs": [
    {
     "data": {
      "text/html": [
       "<div>\n",
       "<style scoped>\n",
       "    .dataframe tbody tr th:only-of-type {\n",
       "        vertical-align: middle;\n",
       "    }\n",
       "\n",
       "    .dataframe tbody tr th {\n",
       "        vertical-align: top;\n",
       "    }\n",
       "\n",
       "    .dataframe thead th {\n",
       "        text-align: right;\n",
       "    }\n",
       "</style>\n",
       "<table border=\"1\" class=\"dataframe\">\n",
       "  <thead>\n",
       "    <tr style=\"text-align: right;\">\n",
       "      <th></th>\n",
       "      <th>uid</th>\n",
       "      <th>country</th>\n",
       "      <th>joined_at</th>\n",
       "      <th>paid_at</th>\n",
       "      <th>revenue</th>\n",
       "      <th>payment_id</th>\n",
       "      <th>from_page</th>\n",
       "      <th>product_type</th>\n",
       "    </tr>\n",
       "  </thead>\n",
       "  <tbody>\n",
       "    <tr>\n",
       "      <th>0</th>\n",
       "      <td>891319275.0</td>\n",
       "      <td>France</td>\n",
       "      <td>2017-05-11 19:57:00</td>\n",
       "      <td>2017-12-11 21:57:00</td>\n",
       "      <td>12727.0</td>\n",
       "      <td>147.0</td>\n",
       "      <td>trial_vip_popup</td>\n",
       "      <td>trial_premium</td>\n",
       "    </tr>\n",
       "    <tr>\n",
       "      <th>1</th>\n",
       "      <td>892421826.0</td>\n",
       "      <td>Israel</td>\n",
       "      <td>2017-10-14 12:46:00</td>\n",
       "      <td>2017-10-23 12:54:00</td>\n",
       "      <td>14586.0</td>\n",
       "      <td>147.0</td>\n",
       "      <td>trial_vip_popup</td>\n",
       "      <td>trial_premium</td>\n",
       "    </tr>\n",
       "    <tr>\n",
       "      <th>2</th>\n",
       "      <td>891822480.0</td>\n",
       "      <td>Italy</td>\n",
       "      <td>2017-10-26 22:27:00</td>\n",
       "      <td>2017-12-11 20:59:00</td>\n",
       "      <td>1911.0</td>\n",
       "      <td>19.0</td>\n",
       "      <td>none</td>\n",
       "      <td>coins</td>\n",
       "    </tr>\n",
       "    <tr>\n",
       "      <th>3</th>\n",
       "      <td>891367521.0</td>\n",
       "      <td>Italy</td>\n",
       "      <td>2017-05-11 02:37:00</td>\n",
       "      <td>2017-06-11 19:15:00</td>\n",
       "      <td>1456.0</td>\n",
       "      <td>127.0</td>\n",
       "      <td>sympathy</td>\n",
       "      <td>other_type</td>\n",
       "    </tr>\n",
       "    <tr>\n",
       "      <th>4</th>\n",
       "      <td>892207959.0</td>\n",
       "      <td>France</td>\n",
       "      <td>2017-10-18 18:30:00</td>\n",
       "      <td>2017-12-11 12:03:00</td>\n",
       "      <td>1261.0</td>\n",
       "      <td>19.0</td>\n",
       "      <td>empty_likes</td>\n",
       "      <td>coins</td>\n",
       "    </tr>\n",
       "    <tr>\n",
       "      <th>...</th>\n",
       "      <td>...</td>\n",
       "      <td>...</td>\n",
       "      <td>...</td>\n",
       "      <td>...</td>\n",
       "      <td>...</td>\n",
       "      <td>...</td>\n",
       "      <td>...</td>\n",
       "      <td>...</td>\n",
       "    </tr>\n",
       "    <tr>\n",
       "      <th>1002</th>\n",
       "      <td>NaN</td>\n",
       "      <td>NaN</td>\n",
       "      <td>NaT</td>\n",
       "      <td>NaT</td>\n",
       "      <td>NaN</td>\n",
       "      <td>NaN</td>\n",
       "      <td>NaN</td>\n",
       "      <td>NaN</td>\n",
       "    </tr>\n",
       "    <tr>\n",
       "      <th>1003</th>\n",
       "      <td>NaN</td>\n",
       "      <td>NaN</td>\n",
       "      <td>NaT</td>\n",
       "      <td>NaT</td>\n",
       "      <td>NaN</td>\n",
       "      <td>NaN</td>\n",
       "      <td>NaN</td>\n",
       "      <td>NaN</td>\n",
       "    </tr>\n",
       "    <tr>\n",
       "      <th>1004</th>\n",
       "      <td>NaN</td>\n",
       "      <td>NaN</td>\n",
       "      <td>NaT</td>\n",
       "      <td>NaT</td>\n",
       "      <td>NaN</td>\n",
       "      <td>NaN</td>\n",
       "      <td>NaN</td>\n",
       "      <td>NaN</td>\n",
       "    </tr>\n",
       "    <tr>\n",
       "      <th>1005</th>\n",
       "      <td>NaN</td>\n",
       "      <td>NaN</td>\n",
       "      <td>NaT</td>\n",
       "      <td>NaT</td>\n",
       "      <td>NaN</td>\n",
       "      <td>NaN</td>\n",
       "      <td>NaN</td>\n",
       "      <td>NaN</td>\n",
       "    </tr>\n",
       "    <tr>\n",
       "      <th>1006</th>\n",
       "      <td>NaN</td>\n",
       "      <td>NaN</td>\n",
       "      <td>NaT</td>\n",
       "      <td>NaT</td>\n",
       "      <td>NaN</td>\n",
       "      <td>NaN</td>\n",
       "      <td>NaN</td>\n",
       "      <td>NaN</td>\n",
       "    </tr>\n",
       "  </tbody>\n",
       "</table>\n",
       "<p>1007 rows × 8 columns</p>\n",
       "</div>"
      ],
      "text/plain": [
       "              uid country            joined_at              paid_at  revenue  \\\n",
       "0     891319275.0  France  2017-05-11 19:57:00  2017-12-11 21:57:00  12727.0   \n",
       "1     892421826.0  Israel  2017-10-14 12:46:00  2017-10-23 12:54:00  14586.0   \n",
       "2     891822480.0   Italy  2017-10-26 22:27:00  2017-12-11 20:59:00   1911.0   \n",
       "3     891367521.0   Italy  2017-05-11 02:37:00  2017-06-11 19:15:00   1456.0   \n",
       "4     892207959.0  France  2017-10-18 18:30:00  2017-12-11 12:03:00   1261.0   \n",
       "...           ...     ...                  ...                  ...      ...   \n",
       "1002          NaN     NaN                  NaT                  NaT      NaN   \n",
       "1003          NaN     NaN                  NaT                  NaT      NaN   \n",
       "1004          NaN     NaN                  NaT                  NaT      NaN   \n",
       "1005          NaN     NaN                  NaT                  NaT      NaN   \n",
       "1006          NaN     NaN                  NaT                  NaT      NaN   \n",
       "\n",
       "      payment_id        from_page   product_type  \n",
       "0          147.0  trial_vip_popup  trial_premium  \n",
       "1          147.0  trial_vip_popup  trial_premium  \n",
       "2           19.0             none          coins  \n",
       "3          127.0         sympathy     other_type  \n",
       "4           19.0      empty_likes          coins  \n",
       "...          ...              ...            ...  \n",
       "1002         NaN              NaN            NaN  \n",
       "1003         NaN              NaN            NaN  \n",
       "1004         NaN              NaN            NaN  \n",
       "1005         NaN              NaN            NaN  \n",
       "1006         NaN              NaN            NaN  \n",
       "\n",
       "[1007 rows x 8 columns]"
      ]
     },
     "execution_count": 160,
     "metadata": {},
     "output_type": "execute_result"
    }
   ],
   "source": [
    "df_control_1_transactions"
   ]
  },
  {
   "cell_type": "code",
   "execution_count": 161,
   "metadata": {},
   "outputs": [
    {
     "data": {
      "text/plain": [
       "630"
      ]
     },
     "execution_count": 161,
     "metadata": {},
     "output_type": "execute_result"
    }
   ],
   "source": [
    "df_control_1_transactions.uid.isnull().sum()"
   ]
  },
  {
   "cell_type": "code",
   "execution_count": 162,
   "metadata": {},
   "outputs": [
    {
     "data": {
      "text/html": [
       "<div>\n",
       "<style scoped>\n",
       "    .dataframe tbody tr th:only-of-type {\n",
       "        vertical-align: middle;\n",
       "    }\n",
       "\n",
       "    .dataframe tbody tr th {\n",
       "        vertical-align: top;\n",
       "    }\n",
       "\n",
       "    .dataframe thead th {\n",
       "        text-align: right;\n",
       "    }\n",
       "</style>\n",
       "<table border=\"1\" class=\"dataframe\">\n",
       "  <thead>\n",
       "    <tr style=\"text-align: right;\">\n",
       "      <th></th>\n",
       "      <th>uid</th>\n",
       "      <th>country</th>\n",
       "      <th>joined_at</th>\n",
       "      <th>paid_at</th>\n",
       "      <th>revenue</th>\n",
       "      <th>payment_id</th>\n",
       "      <th>from_page</th>\n",
       "      <th>product_type</th>\n",
       "    </tr>\n",
       "  </thead>\n",
       "  <tbody>\n",
       "    <tr>\n",
       "      <th>0</th>\n",
       "      <td>891266616</td>\n",
       "      <td>Argentina</td>\n",
       "      <td>2017-06-11 15:25:00</td>\n",
       "      <td>2017-10-11 17:35:00</td>\n",
       "      <td>6305</td>\n",
       "      <td>19</td>\n",
       "      <td>autorefill</td>\n",
       "      <td>coins</td>\n",
       "    </tr>\n",
       "    <tr>\n",
       "      <th>1</th>\n",
       "      <td>892186737</td>\n",
       "      <td>Chile</td>\n",
       "      <td>2017-10-19 06:03:00</td>\n",
       "      <td>2017-04-11 08:53:00</td>\n",
       "      <td>4732</td>\n",
       "      <td>147</td>\n",
       "      <td>promo_09</td>\n",
       "      <td>premium_no_trial</td>\n",
       "    </tr>\n",
       "    <tr>\n",
       "      <th>2</th>\n",
       "      <td>891959004</td>\n",
       "      <td>United States of America</td>\n",
       "      <td>2017-10-24 00:12:00</td>\n",
       "      <td>2017-10-31 02:12:00</td>\n",
       "      <td>10153</td>\n",
       "      <td>147</td>\n",
       "      <td>trial_vip_popup</td>\n",
       "      <td>trial_premium</td>\n",
       "    </tr>\n",
       "    <tr>\n",
       "      <th>3</th>\n",
       "      <td>892115478</td>\n",
       "      <td>Spain</td>\n",
       "      <td>2017-10-20 20:39:00</td>\n",
       "      <td>2017-10-26 06:26:00</td>\n",
       "      <td>2366</td>\n",
       "      <td>67</td>\n",
       "      <td>empty_likes</td>\n",
       "      <td>other_type</td>\n",
       "    </tr>\n",
       "    <tr>\n",
       "      <th>4</th>\n",
       "      <td>891592941</td>\n",
       "      <td>Switzerland</td>\n",
       "      <td>2017-10-31 12:40:00</td>\n",
       "      <td>2017-03-11 16:25:00</td>\n",
       "      <td>6292</td>\n",
       "      <td>147</td>\n",
       "      <td>promo_09</td>\n",
       "      <td>premium_no_trial</td>\n",
       "    </tr>\n",
       "    <tr>\n",
       "      <th>...</th>\n",
       "      <td>...</td>\n",
       "      <td>...</td>\n",
       "      <td>...</td>\n",
       "      <td>...</td>\n",
       "      <td>...</td>\n",
       "      <td>...</td>\n",
       "      <td>...</td>\n",
       "      <td>...</td>\n",
       "    </tr>\n",
       "    <tr>\n",
       "      <th>323</th>\n",
       "      <td>891985866</td>\n",
       "      <td>Belgium</td>\n",
       "      <td>2017-10-23 13:19:00</td>\n",
       "      <td>2017-10-30 15:35:00</td>\n",
       "      <td>16640</td>\n",
       "      <td>147</td>\n",
       "      <td>trial_vip_popup</td>\n",
       "      <td>trial_premium</td>\n",
       "    </tr>\n",
       "    <tr>\n",
       "      <th>324</th>\n",
       "      <td>891491145</td>\n",
       "      <td>United States of America</td>\n",
       "      <td>2017-02-11 18:13:00</td>\n",
       "      <td>2017-09-11 20:32:00</td>\n",
       "      <td>12727</td>\n",
       "      <td>147</td>\n",
       "      <td>send_message</td>\n",
       "      <td>trial_premium</td>\n",
       "    </tr>\n",
       "    <tr>\n",
       "      <th>325</th>\n",
       "      <td>892053750</td>\n",
       "      <td>United States of America</td>\n",
       "      <td>2017-10-22 00:46:00</td>\n",
       "      <td>2017-10-28 08:17:00</td>\n",
       "      <td>1261</td>\n",
       "      <td>19</td>\n",
       "      <td>autorefill</td>\n",
       "      <td>coins</td>\n",
       "    </tr>\n",
       "    <tr>\n",
       "      <th>326</th>\n",
       "      <td>891668253</td>\n",
       "      <td>Chile</td>\n",
       "      <td>2017-10-29 23:08:00</td>\n",
       "      <td>2017-11-15 00:57:00</td>\n",
       "      <td>9997</td>\n",
       "      <td>147</td>\n",
       "      <td>trial_vip_popup</td>\n",
       "      <td>trial_premium</td>\n",
       "    </tr>\n",
       "    <tr>\n",
       "      <th>327</th>\n",
       "      <td>891459291</td>\n",
       "      <td>Spain</td>\n",
       "      <td>2017-03-11 11:43:00</td>\n",
       "      <td>2017-03-11 11:57:00</td>\n",
       "      <td>6292</td>\n",
       "      <td>147</td>\n",
       "      <td>autoreply_message</td>\n",
       "      <td>premium_no_trial</td>\n",
       "    </tr>\n",
       "  </tbody>\n",
       "</table>\n",
       "<p>328 rows × 8 columns</p>\n",
       "</div>"
      ],
      "text/plain": [
       "           uid                   country            joined_at  \\\n",
       "0    891266616                 Argentina  2017-06-11 15:25:00   \n",
       "1    892186737                     Chile  2017-10-19 06:03:00   \n",
       "2    891959004  United States of America  2017-10-24 00:12:00   \n",
       "3    892115478                     Spain  2017-10-20 20:39:00   \n",
       "4    891592941               Switzerland  2017-10-31 12:40:00   \n",
       "..         ...                       ...                  ...   \n",
       "323  891985866                   Belgium  2017-10-23 13:19:00   \n",
       "324  891491145  United States of America  2017-02-11 18:13:00   \n",
       "325  892053750  United States of America  2017-10-22 00:46:00   \n",
       "326  891668253                     Chile  2017-10-29 23:08:00   \n",
       "327  891459291                     Spain  2017-03-11 11:43:00   \n",
       "\n",
       "                 paid_at  revenue  payment_id          from_page  \\\n",
       "0    2017-10-11 17:35:00     6305          19         autorefill   \n",
       "1    2017-04-11 08:53:00     4732         147           promo_09   \n",
       "2    2017-10-31 02:12:00    10153         147    trial_vip_popup   \n",
       "3    2017-10-26 06:26:00     2366          67        empty_likes   \n",
       "4    2017-03-11 16:25:00     6292         147           promo_09   \n",
       "..                   ...      ...         ...                ...   \n",
       "323  2017-10-30 15:35:00    16640         147    trial_vip_popup   \n",
       "324  2017-09-11 20:32:00    12727         147       send_message   \n",
       "325  2017-10-28 08:17:00     1261          19         autorefill   \n",
       "326  2017-11-15 00:57:00     9997         147    trial_vip_popup   \n",
       "327  2017-03-11 11:57:00     6292         147  autoreply_message   \n",
       "\n",
       "         product_type  \n",
       "0               coins  \n",
       "1    premium_no_trial  \n",
       "2       trial_premium  \n",
       "3          other_type  \n",
       "4    premium_no_trial  \n",
       "..                ...  \n",
       "323     trial_premium  \n",
       "324     trial_premium  \n",
       "325             coins  \n",
       "326     trial_premium  \n",
       "327  premium_no_trial  \n",
       "\n",
       "[328 rows x 8 columns]"
      ]
     },
     "execution_count": 162,
     "metadata": {},
     "output_type": "execute_result"
    }
   ],
   "source": [
    "df_control_2_transactions"
   ]
  },
  {
   "cell_type": "code",
   "execution_count": 163,
   "metadata": {},
   "outputs": [
    {
     "data": {
      "text/plain": [
       "630"
      ]
     },
     "execution_count": 163,
     "metadata": {},
     "output_type": "execute_result"
    }
   ],
   "source": [
    "df_control_1_transactions.uid.isnull().sum()"
   ]
  },
  {
   "cell_type": "markdown",
   "metadata": {},
   "source": [
    "Предварительно оценив данные можно сделать выводы и составить план дальнейшей работы:  \n",
    "    Можно отметить, что наличие 2-ух контрольных групп, позволяет нам перед тем как вровести А/B тесты, \n",
    "проверить правильность системы сплитования.  \n",
    "**Для оценки успешности проведенного эксперемента нам необходимо будет:**  \n",
    "      \n",
    "    1.Определить ключевые метрики по которым будем проводить A/B тест.\n",
    "    2.Предобработать данные\n",
    "    3.Проверить корректность работы системы сплитования.  \n",
    "    4.Провести A/B тест тестовой и контрольной группы.  "
   ]
  },
  {
   "cell_type": "markdown",
   "metadata": {},
   "source": [
    "**Определение метрик:**\n",
    "\n",
    "Так как у нас дейтинговое приложение, для оценки эффективности проведенного эксперемента и проверки корректности \n",
    "    работы системы сплитования мы будем пользоваться следующими метриками:  \n",
    "    1.ARPU (Average Revenue per User) — это метрика, которая показывает среднюю выручку на одного активного пользователя продукта  \n",
    "    2.ARPPU (Average Revenue Per Paying User) - это метрика, кокторая паказвает среднюю выручку на одного платящего пользователя.  \n",
    "    3.Конверсия пользователя с бесплатной подпиской в обладателя платного премиум-аккаунта  \n",
    "    4.Конверсия пользователя из владельца пробной подписки в обладателя платной подписки премиум аккаунта\n"
   ]
  },
  {
   "cell_type": "markdown",
   "metadata": {},
   "source": [
    " ### Проведем предобработку данных таблиц c данными о пользователях  \n",
    " Для удобства объеденим данные в одну таблицу, но перед эти создадим колонку с обозначением к какой группе принадлежат данные \n"
   ]
  },
  {
   "cell_type": "code",
   "execution_count": 164,
   "metadata": {},
   "outputs": [],
   "source": [
    "df_test['data'] = 'test'\n",
    "df_control_1['data'] = 'control_1'\n",
    "df_control_2['data'] = 'control_2'"
   ]
  },
  {
   "cell_type": "code",
   "execution_count": 165,
   "metadata": {},
   "outputs": [],
   "source": [
    "df = pd.concat([df_test, df_control_1, df_control_2])"
   ]
  },
  {
   "cell_type": "code",
   "execution_count": 166,
   "metadata": {},
   "outputs": [
    {
     "data": {
      "text/plain": [
       "control_1    4340\n",
       "test         4308\n",
       "control_2    4264\n",
       "Name: data, dtype: int64"
      ]
     },
     "execution_count": 166,
     "metadata": {},
     "output_type": "execute_result"
    }
   ],
   "source": [
    "df.data.value_counts()"
   ]
  },
  {
   "cell_type": "code",
   "execution_count": 167,
   "metadata": {},
   "outputs": [
    {
     "name": "stdout",
     "output_type": "stream",
     "text": [
      "(4308, 14) (4340, 14) (4264, 14)\n"
     ]
    }
   ],
   "source": [
    "print(df_test.shape, df_control_1.shape, df_control_2.shape)"
   ]
  },
  {
   "cell_type": "markdown",
   "metadata": {},
   "source": [
    "Как можно увидеть, что все отработало корректно"
   ]
  },
  {
   "cell_type": "code",
   "execution_count": 168,
   "metadata": {},
   "outputs": [
    {
     "data": {
      "text/plain": [
       "uid                   int64\n",
       "age                   int64\n",
       "attraction_coeff      int64\n",
       "coins               float64\n",
       "country              object\n",
       "visit_days           object\n",
       "gender                int64\n",
       "age_filter_start      int64\n",
       "age_filter_end        int64\n",
       "views_count           int64\n",
       "was_premium         float64\n",
       "is_premium          float64\n",
       "total_revenue         int64\n",
       "data                 object\n",
       "dtype: object"
      ]
     },
     "execution_count": 168,
     "metadata": {},
     "output_type": "execute_result"
    }
   ],
   "source": [
    "df.dtypes"
   ]
  },
  {
   "cell_type": "code",
   "execution_count": 169,
   "metadata": {},
   "outputs": [],
   "source": [
    "df.visit_days = df.visit_days.astype(str)"
   ]
  },
  {
   "cell_type": "markdown",
   "metadata": {},
   "source": [
    " Так же созданим колонку с информацией о общем количестве дней посещений пользователем нашей платформы\n"
   ]
  },
  {
   "cell_type": "code",
   "execution_count": 170,
   "metadata": {},
   "outputs": [],
   "source": [
    "df['all_days'] = df.visit_days.apply(lambda x: len(x.split(',')) if x != 'nan' else 0)"
   ]
  },
  {
   "cell_type": "code",
   "execution_count": 171,
   "metadata": {},
   "outputs": [
    {
     "data": {
      "text/html": [
       "<div>\n",
       "<style scoped>\n",
       "    .dataframe tbody tr th:only-of-type {\n",
       "        vertical-align: middle;\n",
       "    }\n",
       "\n",
       "    .dataframe tbody tr th {\n",
       "        vertical-align: top;\n",
       "    }\n",
       "\n",
       "    .dataframe thead th {\n",
       "        text-align: right;\n",
       "    }\n",
       "</style>\n",
       "<table border=\"1\" class=\"dataframe\">\n",
       "  <thead>\n",
       "    <tr style=\"text-align: right;\">\n",
       "      <th></th>\n",
       "      <th>uid</th>\n",
       "      <th>age</th>\n",
       "      <th>attraction_coeff</th>\n",
       "      <th>coins</th>\n",
       "      <th>country</th>\n",
       "      <th>visit_days</th>\n",
       "      <th>gender</th>\n",
       "      <th>age_filter_start</th>\n",
       "      <th>age_filter_end</th>\n",
       "      <th>views_count</th>\n",
       "      <th>was_premium</th>\n",
       "      <th>is_premium</th>\n",
       "      <th>total_revenue</th>\n",
       "      <th>data</th>\n",
       "      <th>all_days</th>\n",
       "    </tr>\n",
       "  </thead>\n",
       "  <tbody>\n",
       "    <tr>\n",
       "      <th>0</th>\n",
       "      <td>892309896</td>\n",
       "      <td>27</td>\n",
       "      <td>685</td>\n",
       "      <td>NaN</td>\n",
       "      <td>United States of America</td>\n",
       "      <td>1,2,3,4,5,6,7,8,9,10,11,12,16,17</td>\n",
       "      <td>1</td>\n",
       "      <td>24</td>\n",
       "      <td>30</td>\n",
       "      <td>89</td>\n",
       "      <td>NaN</td>\n",
       "      <td>NaN</td>\n",
       "      <td>0</td>\n",
       "      <td>test</td>\n",
       "      <td>14</td>\n",
       "    </tr>\n",
       "    <tr>\n",
       "      <th>1</th>\n",
       "      <td>892044516</td>\n",
       "      <td>27</td>\n",
       "      <td>0</td>\n",
       "      <td>NaN</td>\n",
       "      <td>Germany</td>\n",
       "      <td>nan</td>\n",
       "      <td>1</td>\n",
       "      <td>24</td>\n",
       "      <td>30</td>\n",
       "      <td>0</td>\n",
       "      <td>NaN</td>\n",
       "      <td>NaN</td>\n",
       "      <td>0</td>\n",
       "      <td>test</td>\n",
       "      <td>0</td>\n",
       "    </tr>\n",
       "    <tr>\n",
       "      <th>2</th>\n",
       "      <td>892185708</td>\n",
       "      <td>45</td>\n",
       "      <td>44</td>\n",
       "      <td>NaN</td>\n",
       "      <td>Israel</td>\n",
       "      <td>1,3,4,6,7,8,10,11,12,13,14,15,16,17,18,19,20,2...</td>\n",
       "      <td>1</td>\n",
       "      <td>42</td>\n",
       "      <td>48</td>\n",
       "      <td>68</td>\n",
       "      <td>NaN</td>\n",
       "      <td>NaN</td>\n",
       "      <td>0</td>\n",
       "      <td>test</td>\n",
       "      <td>20</td>\n",
       "    </tr>\n",
       "    <tr>\n",
       "      <th>3</th>\n",
       "      <td>892130292</td>\n",
       "      <td>32</td>\n",
       "      <td>0</td>\n",
       "      <td>NaN</td>\n",
       "      <td>United States of America</td>\n",
       "      <td>1,2,3,4,5,6,7,8,9,10,11,12</td>\n",
       "      <td>1</td>\n",
       "      <td>29</td>\n",
       "      <td>35</td>\n",
       "      <td>0</td>\n",
       "      <td>NaN</td>\n",
       "      <td>NaN</td>\n",
       "      <td>0</td>\n",
       "      <td>test</td>\n",
       "      <td>12</td>\n",
       "    </tr>\n",
       "    <tr>\n",
       "      <th>4</th>\n",
       "      <td>891406035</td>\n",
       "      <td>27</td>\n",
       "      <td>1000</td>\n",
       "      <td>NaN</td>\n",
       "      <td>France</td>\n",
       "      <td>nan</td>\n",
       "      <td>1</td>\n",
       "      <td>24</td>\n",
       "      <td>30</td>\n",
       "      <td>1</td>\n",
       "      <td>1.0</td>\n",
       "      <td>NaN</td>\n",
       "      <td>0</td>\n",
       "      <td>test</td>\n",
       "      <td>0</td>\n",
       "    </tr>\n",
       "  </tbody>\n",
       "</table>\n",
       "</div>"
      ],
      "text/plain": [
       "         uid  age  attraction_coeff  coins                   country  \\\n",
       "0  892309896   27               685    NaN  United States of America   \n",
       "1  892044516   27                 0    NaN                   Germany   \n",
       "2  892185708   45                44    NaN                    Israel   \n",
       "3  892130292   32                 0    NaN  United States of America   \n",
       "4  891406035   27              1000    NaN                    France   \n",
       "\n",
       "                                          visit_days  gender  \\\n",
       "0                   1,2,3,4,5,6,7,8,9,10,11,12,16,17       1   \n",
       "1                                                nan       1   \n",
       "2  1,3,4,6,7,8,10,11,12,13,14,15,16,17,18,19,20,2...       1   \n",
       "3                         1,2,3,4,5,6,7,8,9,10,11,12       1   \n",
       "4                                                nan       1   \n",
       "\n",
       "   age_filter_start  age_filter_end  views_count  was_premium  is_premium  \\\n",
       "0                24              30           89          NaN         NaN   \n",
       "1                24              30            0          NaN         NaN   \n",
       "2                42              48           68          NaN         NaN   \n",
       "3                29              35            0          NaN         NaN   \n",
       "4                24              30            1          1.0         NaN   \n",
       "\n",
       "   total_revenue  data  all_days  \n",
       "0              0  test        14  \n",
       "1              0  test         0  \n",
       "2              0  test        20  \n",
       "3              0  test        12  \n",
       "4              0  test         0  "
      ]
     },
     "execution_count": 171,
     "metadata": {},
     "output_type": "execute_result"
    }
   ],
   "source": [
    "df.head()"
   ]
  },
  {
   "cell_type": "markdown",
   "metadata": {},
   "source": [
    "Для анализа данных полезным будет создать колонку с информацией о том, был ли хоть раз у пользователя премиум. Обратим внимание на то, что если пользователь является премиумом на данный момент, то это означает, что у него в колонке was_premium будет единица. Для дальнейшего анализа для нас не является важным, имеется ли премиум сейчас, так что данную колонку можно удалить, а was_premium переименовать в premium и заполнить пропуски нулями"
   ]
  },
  {
   "cell_type": "code",
   "execution_count": 172,
   "metadata": {},
   "outputs": [],
   "source": [
    "df = df.rename(columns={'was_premium': 'premium'})\n",
    "df['premium'] = df['premium'].fillna(0)"
   ]
  },
  {
   "cell_type": "code",
   "execution_count": 173,
   "metadata": {},
   "outputs": [],
   "source": [
    "df = df.drop('is_premium',  axis= 1)"
   ]
  },
  {
   "cell_type": "code",
   "execution_count": 174,
   "metadata": {},
   "outputs": [
    {
     "data": {
      "text/plain": [
       "uid                     0\n",
       "age                     0\n",
       "attraction_coeff        0\n",
       "coins               12742\n",
       "country                 0\n",
       "visit_days              0\n",
       "gender                  0\n",
       "age_filter_start        0\n",
       "age_filter_end          0\n",
       "views_count             0\n",
       "premium                 0\n",
       "total_revenue           0\n",
       "data                    0\n",
       "all_days                0\n",
       "dtype: int64"
      ]
     },
     "execution_count": 174,
     "metadata": {},
     "output_type": "execute_result"
    }
   ],
   "source": [
    "df.isnull().sum() # Проверим на наличие пустых значений в данных"
   ]
  },
  {
   "cell_type": "code",
   "execution_count": 175,
   "metadata": {},
   "outputs": [],
   "source": [
    "# Заменим пустые значения на на 0\n",
    "df = df.fillna(0)"
   ]
  },
  {
   "cell_type": "code",
   "execution_count": 176,
   "metadata": {},
   "outputs": [
    {
     "data": {
      "text/plain": [
       "uid                 0\n",
       "age                 0\n",
       "attraction_coeff    0\n",
       "coins               0\n",
       "country             0\n",
       "visit_days          0\n",
       "gender              0\n",
       "age_filter_start    0\n",
       "age_filter_end      0\n",
       "views_count         0\n",
       "premium             0\n",
       "total_revenue       0\n",
       "data                0\n",
       "all_days            0\n",
       "dtype: int64"
      ]
     },
     "execution_count": 176,
     "metadata": {},
     "output_type": "execute_result"
    }
   ],
   "source": [
    "df.isnull().sum()"
   ]
  },
  {
   "cell_type": "markdown",
   "metadata": {},
   "source": [
    "Так же проверим на дублирование пользователей"
   ]
  },
  {
   "cell_type": "code",
   "execution_count": 177,
   "metadata": {},
   "outputs": [
    {
     "data": {
      "text/plain": [
       "data    1\n",
       "dtype: int64"
      ]
     },
     "execution_count": 177,
     "metadata": {},
     "output_type": "execute_result"
    }
   ],
   "source": [
    "df.groupby('uid').agg({'data': 'count'}).max() "
   ]
  },
  {
   "cell_type": "markdown",
   "metadata": {},
   "source": [
    "Как можно заметить дублирование пользователей не наблюдается"
   ]
  },
  {
   "cell_type": "markdown",
   "metadata": {},
   "source": [
    "**На платформе присутствуют 3 типа пользователей:**  \n",
    "\n",
    "Те, кто приобретал платную подписку  \n",
    "Те, кто только лишь использовал пробную версию, не купив платную  \n",
    "Те, кто не платил деньги и не пробовал пробную версию  \n",
    "Создадим колонку с информацией о типе пользователя. 1 категория - payer, 2 категория - probe, 3 категория - free"
   ]
  },
  {
   "cell_type": "code",
   "execution_count": 178,
   "metadata": {},
   "outputs": [],
   "source": [
    "def type_user(premium, revenue):\n",
    "    if premium == 1 and revenue > 0:\n",
    "        return 'bought'\n",
    "    elif premium == 1 and revenue == 0:\n",
    "        return 'probe'\n",
    "    else:\n",
    "        return 'free'"
   ]
  },
  {
   "cell_type": "code",
   "execution_count": 179,
   "metadata": {},
   "outputs": [],
   "source": [
    "df['type_type'] = df.apply(lambda x: type_user(x.premium, x.total_revenue), axis = 1)"
   ]
  },
  {
   "cell_type": "code",
   "execution_count": 180,
   "metadata": {},
   "outputs": [
    {
     "data": {
      "text/html": [
       "<div>\n",
       "<style scoped>\n",
       "    .dataframe tbody tr th:only-of-type {\n",
       "        vertical-align: middle;\n",
       "    }\n",
       "\n",
       "    .dataframe tbody tr th {\n",
       "        vertical-align: top;\n",
       "    }\n",
       "\n",
       "    .dataframe thead th {\n",
       "        text-align: right;\n",
       "    }\n",
       "</style>\n",
       "<table border=\"1\" class=\"dataframe\">\n",
       "  <thead>\n",
       "    <tr style=\"text-align: right;\">\n",
       "      <th></th>\n",
       "      <th>uid</th>\n",
       "      <th>age</th>\n",
       "      <th>attraction_coeff</th>\n",
       "      <th>coins</th>\n",
       "      <th>country</th>\n",
       "      <th>visit_days</th>\n",
       "      <th>gender</th>\n",
       "      <th>age_filter_start</th>\n",
       "      <th>age_filter_end</th>\n",
       "      <th>views_count</th>\n",
       "      <th>premium</th>\n",
       "      <th>total_revenue</th>\n",
       "      <th>data</th>\n",
       "      <th>all_days</th>\n",
       "      <th>type_type</th>\n",
       "    </tr>\n",
       "  </thead>\n",
       "  <tbody>\n",
       "    <tr>\n",
       "      <th>0</th>\n",
       "      <td>892309896</td>\n",
       "      <td>27</td>\n",
       "      <td>685</td>\n",
       "      <td>0.0</td>\n",
       "      <td>United States of America</td>\n",
       "      <td>1,2,3,4,5,6,7,8,9,10,11,12,16,17</td>\n",
       "      <td>1</td>\n",
       "      <td>24</td>\n",
       "      <td>30</td>\n",
       "      <td>89</td>\n",
       "      <td>0.0</td>\n",
       "      <td>0</td>\n",
       "      <td>test</td>\n",
       "      <td>14</td>\n",
       "      <td>free</td>\n",
       "    </tr>\n",
       "    <tr>\n",
       "      <th>1</th>\n",
       "      <td>892044516</td>\n",
       "      <td>27</td>\n",
       "      <td>0</td>\n",
       "      <td>0.0</td>\n",
       "      <td>Germany</td>\n",
       "      <td>nan</td>\n",
       "      <td>1</td>\n",
       "      <td>24</td>\n",
       "      <td>30</td>\n",
       "      <td>0</td>\n",
       "      <td>0.0</td>\n",
       "      <td>0</td>\n",
       "      <td>test</td>\n",
       "      <td>0</td>\n",
       "      <td>free</td>\n",
       "    </tr>\n",
       "    <tr>\n",
       "      <th>2</th>\n",
       "      <td>892185708</td>\n",
       "      <td>45</td>\n",
       "      <td>44</td>\n",
       "      <td>0.0</td>\n",
       "      <td>Israel</td>\n",
       "      <td>1,3,4,6,7,8,10,11,12,13,14,15,16,17,18,19,20,2...</td>\n",
       "      <td>1</td>\n",
       "      <td>42</td>\n",
       "      <td>48</td>\n",
       "      <td>68</td>\n",
       "      <td>0.0</td>\n",
       "      <td>0</td>\n",
       "      <td>test</td>\n",
       "      <td>20</td>\n",
       "      <td>free</td>\n",
       "    </tr>\n",
       "    <tr>\n",
       "      <th>3</th>\n",
       "      <td>892130292</td>\n",
       "      <td>32</td>\n",
       "      <td>0</td>\n",
       "      <td>0.0</td>\n",
       "      <td>United States of America</td>\n",
       "      <td>1,2,3,4,5,6,7,8,9,10,11,12</td>\n",
       "      <td>1</td>\n",
       "      <td>29</td>\n",
       "      <td>35</td>\n",
       "      <td>0</td>\n",
       "      <td>0.0</td>\n",
       "      <td>0</td>\n",
       "      <td>test</td>\n",
       "      <td>12</td>\n",
       "      <td>free</td>\n",
       "    </tr>\n",
       "    <tr>\n",
       "      <th>4</th>\n",
       "      <td>891406035</td>\n",
       "      <td>27</td>\n",
       "      <td>1000</td>\n",
       "      <td>0.0</td>\n",
       "      <td>France</td>\n",
       "      <td>nan</td>\n",
       "      <td>1</td>\n",
       "      <td>24</td>\n",
       "      <td>30</td>\n",
       "      <td>1</td>\n",
       "      <td>1.0</td>\n",
       "      <td>0</td>\n",
       "      <td>test</td>\n",
       "      <td>0</td>\n",
       "      <td>probe</td>\n",
       "    </tr>\n",
       "  </tbody>\n",
       "</table>\n",
       "</div>"
      ],
      "text/plain": [
       "         uid  age  attraction_coeff  coins                   country  \\\n",
       "0  892309896   27               685    0.0  United States of America   \n",
       "1  892044516   27                 0    0.0                   Germany   \n",
       "2  892185708   45                44    0.0                    Israel   \n",
       "3  892130292   32                 0    0.0  United States of America   \n",
       "4  891406035   27              1000    0.0                    France   \n",
       "\n",
       "                                          visit_days  gender  \\\n",
       "0                   1,2,3,4,5,6,7,8,9,10,11,12,16,17       1   \n",
       "1                                                nan       1   \n",
       "2  1,3,4,6,7,8,10,11,12,13,14,15,16,17,18,19,20,2...       1   \n",
       "3                         1,2,3,4,5,6,7,8,9,10,11,12       1   \n",
       "4                                                nan       1   \n",
       "\n",
       "   age_filter_start  age_filter_end  views_count  premium  total_revenue  \\\n",
       "0                24              30           89      0.0              0   \n",
       "1                24              30            0      0.0              0   \n",
       "2                42              48           68      0.0              0   \n",
       "3                29              35            0      0.0              0   \n",
       "4                24              30            1      1.0              0   \n",
       "\n",
       "   data  all_days type_type  \n",
       "0  test        14      free  \n",
       "1  test         0      free  \n",
       "2  test        20      free  \n",
       "3  test        12      free  \n",
       "4  test         0     probe  "
      ]
     },
     "execution_count": 180,
     "metadata": {},
     "output_type": "execute_result"
    }
   ],
   "source": [
    "df.head()"
   ]
  },
  {
   "cell_type": "markdown",
   "metadata": {},
   "source": [
    "Стоит обратить внимание на условие: \"Был проведен A/B тест, в рамках которого для новых пользователей из нескольких стран была изменена стоимость премиум-подписки* при покупке через две новые платежные системы. При этом стоимость пробного периода оставалась прежней.\" То есть стоит взять пользователей из тех стран, которые были только в тесте. "
   ]
  },
  {
   "cell_type": "code",
   "execution_count": 181,
   "metadata": {},
   "outputs": [
    {
     "data": {
      "text/html": [
       "<div>\n",
       "<style scoped>\n",
       "    .dataframe tbody tr th:only-of-type {\n",
       "        vertical-align: middle;\n",
       "    }\n",
       "\n",
       "    .dataframe tbody tr th {\n",
       "        vertical-align: top;\n",
       "    }\n",
       "\n",
       "    .dataframe thead th {\n",
       "        text-align: right;\n",
       "    }\n",
       "</style>\n",
       "<table border=\"1\" class=\"dataframe\">\n",
       "  <thead>\n",
       "    <tr style=\"text-align: right;\">\n",
       "      <th>data</th>\n",
       "      <th>country</th>\n",
       "      <th>control_1</th>\n",
       "      <th>control_2</th>\n",
       "      <th>test</th>\n",
       "    </tr>\n",
       "  </thead>\n",
       "  <tbody>\n",
       "    <tr>\n",
       "      <th>0</th>\n",
       "      <td>Algeria</td>\n",
       "      <td>2</td>\n",
       "      <td>0</td>\n",
       "      <td>2</td>\n",
       "    </tr>\n",
       "    <tr>\n",
       "      <th>1</th>\n",
       "      <td>Argentina</td>\n",
       "      <td>389</td>\n",
       "      <td>397</td>\n",
       "      <td>396</td>\n",
       "    </tr>\n",
       "    <tr>\n",
       "      <th>2</th>\n",
       "      <td>Armenia</td>\n",
       "      <td>1</td>\n",
       "      <td>0</td>\n",
       "      <td>0</td>\n",
       "    </tr>\n",
       "    <tr>\n",
       "      <th>3</th>\n",
       "      <td>Australia</td>\n",
       "      <td>50</td>\n",
       "      <td>51</td>\n",
       "      <td>62</td>\n",
       "    </tr>\n",
       "    <tr>\n",
       "      <th>4</th>\n",
       "      <td>Austria</td>\n",
       "      <td>0</td>\n",
       "      <td>2</td>\n",
       "      <td>0</td>\n",
       "    </tr>\n",
       "  </tbody>\n",
       "</table>\n",
       "</div>"
      ],
      "text/plain": [
       "data    country  control_1  control_2  test\n",
       "0       Algeria          2          0     2\n",
       "1     Argentina        389        397   396\n",
       "2       Armenia          1          0     0\n",
       "3     Australia         50         51    62\n",
       "4       Austria          0          2     0"
      ]
     },
     "execution_count": 181,
     "metadata": {},
     "output_type": "execute_result"
    }
   ],
   "source": [
    "df_3 = df.groupby(['country', 'data'], as_index=False).agg({'uid': 'count'}).rename(columns = {'uid': 'amount'})\n",
    "pivot = df_3.pivot_table(index = 'country', columns='data', values='amount', fill_value=0).reset_index()\n",
    "pivot.head()"
   ]
  },
  {
   "cell_type": "code",
   "execution_count": 182,
   "metadata": {},
   "outputs": [],
   "source": [
    "wer = list(pivot.query('control_1 != 0 and control_2 != 0 and test != 0').country)"
   ]
  },
  {
   "cell_type": "code",
   "execution_count": 183,
   "metadata": {},
   "outputs": [],
   "source": [
    "df = df.query('country in @wer')"
   ]
  },
  {
   "cell_type": "markdown",
   "metadata": {},
   "source": [
    "### Предобработаем данные с информацией по платежам  \n",
    " \n",
    " Объеденим таблицы с данными по транзакциям пользователей в одну, таким же образом как и таблицы с данными по пользователям"
   ]
  },
  {
   "cell_type": "code",
   "execution_count": 184,
   "metadata": {},
   "outputs": [],
   "source": [
    "df_test_transactions['data'] = 'test'\n",
    "df_control_1_transactions['data'] = 'control_1'\n",
    "df_control_2_transactions['data'] = 'control_2'"
   ]
  },
  {
   "cell_type": "code",
   "execution_count": 185,
   "metadata": {},
   "outputs": [],
   "source": [
    "df_transact = pd.concat([df_test_transactions, df_control_1_transactions, df_control_2_transactions])"
   ]
  },
  {
   "cell_type": "code",
   "execution_count": 186,
   "metadata": {},
   "outputs": [
    {
     "data": {
      "text/html": [
       "<div>\n",
       "<style scoped>\n",
       "    .dataframe tbody tr th:only-of-type {\n",
       "        vertical-align: middle;\n",
       "    }\n",
       "\n",
       "    .dataframe tbody tr th {\n",
       "        vertical-align: top;\n",
       "    }\n",
       "\n",
       "    .dataframe thead th {\n",
       "        text-align: right;\n",
       "    }\n",
       "</style>\n",
       "<table border=\"1\" class=\"dataframe\">\n",
       "  <thead>\n",
       "    <tr style=\"text-align: right;\">\n",
       "      <th></th>\n",
       "      <th>uid</th>\n",
       "      <th>country</th>\n",
       "      <th>joined_at</th>\n",
       "      <th>paid_at</th>\n",
       "      <th>revenue</th>\n",
       "      <th>payment_id</th>\n",
       "      <th>from_page</th>\n",
       "      <th>product_type</th>\n",
       "      <th>data</th>\n",
       "    </tr>\n",
       "  </thead>\n",
       "  <tbody>\n",
       "    <tr>\n",
       "      <th>0</th>\n",
       "      <td>891345942.0</td>\n",
       "      <td>Italy</td>\n",
       "      <td>2017-05-11 13:00:00</td>\n",
       "      <td>2017-11-13 15:04:00</td>\n",
       "      <td>12909.0</td>\n",
       "      <td>147.0</td>\n",
       "      <td>trial_vip_popup</td>\n",
       "      <td>trial_premium</td>\n",
       "      <td>test</td>\n",
       "    </tr>\n",
       "    <tr>\n",
       "      <th>1</th>\n",
       "      <td>892054251.0</td>\n",
       "      <td>United States of America</td>\n",
       "      <td>2017-10-22 00:33:00</td>\n",
       "      <td>2017-10-30 01:37:00</td>\n",
       "      <td>13923.0</td>\n",
       "      <td>147.0</td>\n",
       "      <td>trial_vip_popup</td>\n",
       "      <td>trial_premium</td>\n",
       "      <td>test</td>\n",
       "    </tr>\n",
       "    <tr>\n",
       "      <th>2</th>\n",
       "      <td>892236423.0</td>\n",
       "      <td>United States of America</td>\n",
       "      <td>2017-10-18 01:09:00</td>\n",
       "      <td>2017-10-23 00:15:00</td>\n",
       "      <td>3783.0</td>\n",
       "      <td>67.0</td>\n",
       "      <td>menu</td>\n",
       "      <td>other_type</td>\n",
       "      <td>test</td>\n",
       "    </tr>\n",
       "    <tr>\n",
       "      <th>3</th>\n",
       "      <td>892236423.0</td>\n",
       "      <td>United States of America</td>\n",
       "      <td>2017-10-18 01:09:00</td>\n",
       "      <td>2017-10-27 22:38:00</td>\n",
       "      <td>3783.0</td>\n",
       "      <td>67.0</td>\n",
       "      <td>menu</td>\n",
       "      <td>other_type</td>\n",
       "      <td>test</td>\n",
       "    </tr>\n",
       "    <tr>\n",
       "      <th>4</th>\n",
       "      <td>892168170.0</td>\n",
       "      <td>United States of America</td>\n",
       "      <td>2017-10-19 17:10:00</td>\n",
       "      <td>2017-10-27 19:10:00</td>\n",
       "      <td>9087.0</td>\n",
       "      <td>147.0</td>\n",
       "      <td>trial_vip_popup</td>\n",
       "      <td>trial_premium</td>\n",
       "      <td>test</td>\n",
       "    </tr>\n",
       "    <tr>\n",
       "      <th>...</th>\n",
       "      <td>...</td>\n",
       "      <td>...</td>\n",
       "      <td>...</td>\n",
       "      <td>...</td>\n",
       "      <td>...</td>\n",
       "      <td>...</td>\n",
       "      <td>...</td>\n",
       "      <td>...</td>\n",
       "      <td>...</td>\n",
       "    </tr>\n",
       "    <tr>\n",
       "      <th>323</th>\n",
       "      <td>891985866.0</td>\n",
       "      <td>Belgium</td>\n",
       "      <td>2017-10-23 13:19:00</td>\n",
       "      <td>2017-10-30 15:35:00</td>\n",
       "      <td>16640.0</td>\n",
       "      <td>147.0</td>\n",
       "      <td>trial_vip_popup</td>\n",
       "      <td>trial_premium</td>\n",
       "      <td>control_2</td>\n",
       "    </tr>\n",
       "    <tr>\n",
       "      <th>324</th>\n",
       "      <td>891491145.0</td>\n",
       "      <td>United States of America</td>\n",
       "      <td>2017-02-11 18:13:00</td>\n",
       "      <td>2017-09-11 20:32:00</td>\n",
       "      <td>12727.0</td>\n",
       "      <td>147.0</td>\n",
       "      <td>send_message</td>\n",
       "      <td>trial_premium</td>\n",
       "      <td>control_2</td>\n",
       "    </tr>\n",
       "    <tr>\n",
       "      <th>325</th>\n",
       "      <td>892053750.0</td>\n",
       "      <td>United States of America</td>\n",
       "      <td>2017-10-22 00:46:00</td>\n",
       "      <td>2017-10-28 08:17:00</td>\n",
       "      <td>1261.0</td>\n",
       "      <td>19.0</td>\n",
       "      <td>autorefill</td>\n",
       "      <td>coins</td>\n",
       "      <td>control_2</td>\n",
       "    </tr>\n",
       "    <tr>\n",
       "      <th>326</th>\n",
       "      <td>891668253.0</td>\n",
       "      <td>Chile</td>\n",
       "      <td>2017-10-29 23:08:00</td>\n",
       "      <td>2017-11-15 00:57:00</td>\n",
       "      <td>9997.0</td>\n",
       "      <td>147.0</td>\n",
       "      <td>trial_vip_popup</td>\n",
       "      <td>trial_premium</td>\n",
       "      <td>control_2</td>\n",
       "    </tr>\n",
       "    <tr>\n",
       "      <th>327</th>\n",
       "      <td>891459291.0</td>\n",
       "      <td>Spain</td>\n",
       "      <td>2017-03-11 11:43:00</td>\n",
       "      <td>2017-03-11 11:57:00</td>\n",
       "      <td>6292.0</td>\n",
       "      <td>147.0</td>\n",
       "      <td>autoreply_message</td>\n",
       "      <td>premium_no_trial</td>\n",
       "      <td>control_2</td>\n",
       "    </tr>\n",
       "  </tbody>\n",
       "</table>\n",
       "<p>1608 rows × 9 columns</p>\n",
       "</div>"
      ],
      "text/plain": [
       "             uid                   country            joined_at  \\\n",
       "0    891345942.0                     Italy  2017-05-11 13:00:00   \n",
       "1    892054251.0  United States of America  2017-10-22 00:33:00   \n",
       "2    892236423.0  United States of America  2017-10-18 01:09:00   \n",
       "3    892236423.0  United States of America  2017-10-18 01:09:00   \n",
       "4    892168170.0  United States of America  2017-10-19 17:10:00   \n",
       "..           ...                       ...                  ...   \n",
       "323  891985866.0                   Belgium  2017-10-23 13:19:00   \n",
       "324  891491145.0  United States of America  2017-02-11 18:13:00   \n",
       "325  892053750.0  United States of America  2017-10-22 00:46:00   \n",
       "326  891668253.0                     Chile  2017-10-29 23:08:00   \n",
       "327  891459291.0                     Spain  2017-03-11 11:43:00   \n",
       "\n",
       "                 paid_at  revenue  payment_id          from_page  \\\n",
       "0    2017-11-13 15:04:00  12909.0       147.0    trial_vip_popup   \n",
       "1    2017-10-30 01:37:00  13923.0       147.0    trial_vip_popup   \n",
       "2    2017-10-23 00:15:00   3783.0        67.0               menu   \n",
       "3    2017-10-27 22:38:00   3783.0        67.0               menu   \n",
       "4    2017-10-27 19:10:00   9087.0       147.0    trial_vip_popup   \n",
       "..                   ...      ...         ...                ...   \n",
       "323  2017-10-30 15:35:00  16640.0       147.0    trial_vip_popup   \n",
       "324  2017-09-11 20:32:00  12727.0       147.0       send_message   \n",
       "325  2017-10-28 08:17:00   1261.0        19.0         autorefill   \n",
       "326  2017-11-15 00:57:00   9997.0       147.0    trial_vip_popup   \n",
       "327  2017-03-11 11:57:00   6292.0       147.0  autoreply_message   \n",
       "\n",
       "         product_type       data  \n",
       "0       trial_premium       test  \n",
       "1       trial_premium       test  \n",
       "2          other_type       test  \n",
       "3          other_type       test  \n",
       "4       trial_premium       test  \n",
       "..                ...        ...  \n",
       "323     trial_premium  control_2  \n",
       "324     trial_premium  control_2  \n",
       "325             coins  control_2  \n",
       "326     trial_premium  control_2  \n",
       "327  premium_no_trial  control_2  \n",
       "\n",
       "[1608 rows x 9 columns]"
      ]
     },
     "execution_count": 186,
     "metadata": {},
     "output_type": "execute_result"
    }
   ],
   "source": [
    "df_transact"
   ]
  },
  {
   "cell_type": "code",
   "execution_count": 187,
   "metadata": {},
   "outputs": [
    {
     "data": {
      "text/plain": [
       "control_1    1007\n",
       "control_2     328\n",
       "test          273\n",
       "Name: data, dtype: int64"
      ]
     },
     "execution_count": 187,
     "metadata": {},
     "output_type": "execute_result"
    }
   ],
   "source": [
    "df_transact.data.value_counts() # Проверим на кооректоность при объединении и что данные не потерялись"
   ]
  },
  {
   "cell_type": "code",
   "execution_count": 188,
   "metadata": {},
   "outputs": [
    {
     "data": {
      "text/plain": [
       "uid             float64\n",
       "country          object\n",
       "joined_at        object\n",
       "paid_at          object\n",
       "revenue         float64\n",
       "payment_id      float64\n",
       "from_page        object\n",
       "product_type     object\n",
       "data             object\n",
       "dtype: object"
      ]
     },
     "execution_count": 188,
     "metadata": {},
     "output_type": "execute_result"
    }
   ],
   "source": [
    "df_transact.dtypes"
   ]
  },
  {
   "cell_type": "markdown",
   "metadata": {},
   "source": [
    "Изменим тип данных в колонках с информацией о времени"
   ]
  },
  {
   "cell_type": "code",
   "execution_count": 189,
   "metadata": {},
   "outputs": [],
   "source": [
    "df_transact.joined_at = pd.to_datetime(df_transact.joined_at)\n",
    "df_transact.paid_at = pd.to_datetime(df_transact.paid_at)"
   ]
  },
  {
   "cell_type": "code",
   "execution_count": 190,
   "metadata": {},
   "outputs": [
    {
     "data": {
      "text/plain": [
       "uid                    float64\n",
       "country                 object\n",
       "joined_at       datetime64[ns]\n",
       "paid_at         datetime64[ns]\n",
       "revenue                float64\n",
       "payment_id             float64\n",
       "from_page               object\n",
       "product_type            object\n",
       "data                    object\n",
       "dtype: object"
      ]
     },
     "execution_count": 190,
     "metadata": {},
     "output_type": "execute_result"
    }
   ],
   "source": [
    "df_transact.dtypes"
   ]
  },
  {
   "cell_type": "markdown",
   "metadata": {},
   "source": [
    " Уберем 0 в конце у номера id  пользователя для дальнейшего кореектоного присоединения информации о платежах   к информации о пользователях\n"
   ]
  },
  {
   "cell_type": "code",
   "execution_count": 191,
   "metadata": {},
   "outputs": [],
   "source": [
    "df_transact.uid = df_transact.uid.astype(str)\n",
    "df_transact.uid = df_transact.uid.apply(lambda x: x.split('.')[0])\n"
   ]
  },
  {
   "cell_type": "code",
   "execution_count": 192,
   "metadata": {},
   "outputs": [
    {
     "data": {
      "text/html": [
       "<div>\n",
       "<style scoped>\n",
       "    .dataframe tbody tr th:only-of-type {\n",
       "        vertical-align: middle;\n",
       "    }\n",
       "\n",
       "    .dataframe tbody tr th {\n",
       "        vertical-align: top;\n",
       "    }\n",
       "\n",
       "    .dataframe thead th {\n",
       "        text-align: right;\n",
       "    }\n",
       "</style>\n",
       "<table border=\"1\" class=\"dataframe\">\n",
       "  <thead>\n",
       "    <tr style=\"text-align: right;\">\n",
       "      <th></th>\n",
       "      <th>uid</th>\n",
       "      <th>country</th>\n",
       "      <th>joined_at</th>\n",
       "      <th>paid_at</th>\n",
       "      <th>revenue</th>\n",
       "      <th>payment_id</th>\n",
       "      <th>from_page</th>\n",
       "      <th>product_type</th>\n",
       "      <th>data</th>\n",
       "    </tr>\n",
       "  </thead>\n",
       "  <tbody>\n",
       "    <tr>\n",
       "      <th>0</th>\n",
       "      <td>891345942</td>\n",
       "      <td>Italy</td>\n",
       "      <td>2017-05-11 13:00:00</td>\n",
       "      <td>2017-11-13 15:04:00</td>\n",
       "      <td>12909.0</td>\n",
       "      <td>147.0</td>\n",
       "      <td>trial_vip_popup</td>\n",
       "      <td>trial_premium</td>\n",
       "      <td>test</td>\n",
       "    </tr>\n",
       "    <tr>\n",
       "      <th>1</th>\n",
       "      <td>892054251</td>\n",
       "      <td>United States of America</td>\n",
       "      <td>2017-10-22 00:33:00</td>\n",
       "      <td>2017-10-30 01:37:00</td>\n",
       "      <td>13923.0</td>\n",
       "      <td>147.0</td>\n",
       "      <td>trial_vip_popup</td>\n",
       "      <td>trial_premium</td>\n",
       "      <td>test</td>\n",
       "    </tr>\n",
       "    <tr>\n",
       "      <th>2</th>\n",
       "      <td>892236423</td>\n",
       "      <td>United States of America</td>\n",
       "      <td>2017-10-18 01:09:00</td>\n",
       "      <td>2017-10-23 00:15:00</td>\n",
       "      <td>3783.0</td>\n",
       "      <td>67.0</td>\n",
       "      <td>menu</td>\n",
       "      <td>other_type</td>\n",
       "      <td>test</td>\n",
       "    </tr>\n",
       "    <tr>\n",
       "      <th>3</th>\n",
       "      <td>892236423</td>\n",
       "      <td>United States of America</td>\n",
       "      <td>2017-10-18 01:09:00</td>\n",
       "      <td>2017-10-27 22:38:00</td>\n",
       "      <td>3783.0</td>\n",
       "      <td>67.0</td>\n",
       "      <td>menu</td>\n",
       "      <td>other_type</td>\n",
       "      <td>test</td>\n",
       "    </tr>\n",
       "    <tr>\n",
       "      <th>4</th>\n",
       "      <td>892168170</td>\n",
       "      <td>United States of America</td>\n",
       "      <td>2017-10-19 17:10:00</td>\n",
       "      <td>2017-10-27 19:10:00</td>\n",
       "      <td>9087.0</td>\n",
       "      <td>147.0</td>\n",
       "      <td>trial_vip_popup</td>\n",
       "      <td>trial_premium</td>\n",
       "      <td>test</td>\n",
       "    </tr>\n",
       "  </tbody>\n",
       "</table>\n",
       "</div>"
      ],
      "text/plain": [
       "         uid                   country           joined_at  \\\n",
       "0  891345942                     Italy 2017-05-11 13:00:00   \n",
       "1  892054251  United States of America 2017-10-22 00:33:00   \n",
       "2  892236423  United States of America 2017-10-18 01:09:00   \n",
       "3  892236423  United States of America 2017-10-18 01:09:00   \n",
       "4  892168170  United States of America 2017-10-19 17:10:00   \n",
       "\n",
       "              paid_at  revenue  payment_id        from_page   product_type  \\\n",
       "0 2017-11-13 15:04:00  12909.0       147.0  trial_vip_popup  trial_premium   \n",
       "1 2017-10-30 01:37:00  13923.0       147.0  trial_vip_popup  trial_premium   \n",
       "2 2017-10-23 00:15:00   3783.0        67.0             menu     other_type   \n",
       "3 2017-10-27 22:38:00   3783.0        67.0             menu     other_type   \n",
       "4 2017-10-27 19:10:00   9087.0       147.0  trial_vip_popup  trial_premium   \n",
       "\n",
       "   data  \n",
       "0  test  \n",
       "1  test  \n",
       "2  test  \n",
       "3  test  \n",
       "4  test  "
      ]
     },
     "execution_count": 192,
     "metadata": {},
     "output_type": "execute_result"
    }
   ],
   "source": [
    "df_transact.head()"
   ]
  },
  {
   "cell_type": "code",
   "execution_count": 193,
   "metadata": {},
   "outputs": [
    {
     "data": {
      "text/plain": [
       "nan          630\n",
       "892333905     27\n",
       "892236423     14\n",
       "892069554     11\n",
       "891637005     11\n",
       "            ... \n",
       "892106949      1\n",
       "891414915      1\n",
       "891555327      1\n",
       "891482937      1\n",
       "891651711      1\n",
       "Name: uid, Length: 527, dtype: int64"
      ]
     },
     "execution_count": 193,
     "metadata": {},
     "output_type": "execute_result"
    }
   ],
   "source": [
    "df_transact.uid.value_counts()"
   ]
  },
  {
   "cell_type": "markdown",
   "metadata": {},
   "source": [
    " Можем увидеть что данные в чтолбце с id дублируется по несколько раз и  присоединение этой таблицы к таблице с данными о пользователях будет не корректной   \n",
    " Будем использовать эту таблиц для оценки изменнений метрик во времени"
   ]
  },
  {
   "cell_type": "code",
   "execution_count": 194,
   "metadata": {},
   "outputs": [],
   "source": [
    "df_transact = df_transact.dropna (how='all') # Удалим стро"
   ]
  },
  {
   "cell_type": "code",
   "execution_count": 195,
   "metadata": {},
   "outputs": [
    {
     "data": {
      "text/plain": [
       "nan          630\n",
       "892333905     27\n",
       "892236423     14\n",
       "892069554     11\n",
       "891637005     11\n",
       "            ... \n",
       "892106949      1\n",
       "891414915      1\n",
       "891555327      1\n",
       "891482937      1\n",
       "891651711      1\n",
       "Name: uid, Length: 527, dtype: int64"
      ]
     },
     "execution_count": 195,
     "metadata": {},
     "output_type": "execute_result"
    }
   ],
   "source": [
    "df_transact.uid.value_counts()"
   ]
  },
  {
   "cell_type": "code",
   "execution_count": 196,
   "metadata": {},
   "outputs": [],
   "source": [
    "df_transact = df_transact.query('uid != \"nan\"')"
   ]
  },
  {
   "cell_type": "code",
   "execution_count": 197,
   "metadata": {},
   "outputs": [
    {
     "data": {
      "text/plain": [
       "892333905    27\n",
       "892236423    14\n",
       "892069554    11\n",
       "891637005    11\n",
       "891707061    10\n",
       "             ..\n",
       "892385232     1\n",
       "892085121     1\n",
       "892026636     1\n",
       "891897387     1\n",
       "891459291     1\n",
       "Name: uid, Length: 526, dtype: int64"
      ]
     },
     "execution_count": 197,
     "metadata": {},
     "output_type": "execute_result"
    }
   ],
   "source": [
    "df_transact.uid.value_counts()"
   ]
  },
  {
   "cell_type": "markdown",
   "metadata": {},
   "source": [
    "Посмотрим на присоединение пользователей во времени"
   ]
  },
  {
   "cell_type": "code",
   "execution_count": 198,
   "metadata": {},
   "outputs": [
    {
     "data": {
      "text/plain": [
       "<matplotlib.axes._subplots.AxesSubplot at 0x7f53fbc64908>"
      ]
     },
     "execution_count": 198,
     "metadata": {},
     "output_type": "execute_result"
    },
    {
     "data": {
      "image/png": "[encoded data removed]",
      "text/plain": [
       "<Figure size 1080x360 with 1 Axes>"
      ]
     },
     "metadata": {},
     "output_type": "display_data"
    }
   ],
   "source": [
    "sns.set(rc={'figure.figsize': (15, 5)})\n",
    "sns.kdeplot(data = df_transact, x = df_transact.joined_at)"
   ]
  },
  {
   "cell_type": "code",
   "execution_count": 199,
   "metadata": {},
   "outputs": [
    {
     "data": {
      "text/plain": [
       "65    2015-01-19 11:49:00\n",
       "101   2015-01-19 11:49:00\n",
       "224   2015-01-19 11:49:00\n",
       "196   2017-01-11 01:06:00\n",
       "342   2017-01-11 01:06:00\n",
       "              ...        \n",
       "138   2017-10-31 17:43:00\n",
       "293   2017-10-31 17:51:00\n",
       "265   2017-10-31 20:40:00\n",
       "147   2017-10-31 22:17:00\n",
       "136   2017-10-31 23:40:00\n",
       "Name: joined_at, Length: 978, dtype: datetime64[ns]"
      ]
     },
     "execution_count": 199,
     "metadata": {},
     "output_type": "execute_result"
    }
   ],
   "source": [
    "df_transact.joined_at.sort_values()"
   ]
  },
  {
   "cell_type": "code",
   "execution_count": 200,
   "metadata": {
    "scrolled": true
   },
   "outputs": [
    {
     "data": {
      "text/html": [
       "<div>\n",
       "<style scoped>\n",
       "    .dataframe tbody tr th:only-of-type {\n",
       "        vertical-align: middle;\n",
       "    }\n",
       "\n",
       "    .dataframe tbody tr th {\n",
       "        vertical-align: top;\n",
       "    }\n",
       "\n",
       "    .dataframe thead th {\n",
       "        text-align: right;\n",
       "    }\n",
       "</style>\n",
       "<table border=\"1\" class=\"dataframe\">\n",
       "  <thead>\n",
       "    <tr style=\"text-align: right;\">\n",
       "      <th></th>\n",
       "      <th>uid</th>\n",
       "      <th>country</th>\n",
       "      <th>joined_at</th>\n",
       "      <th>paid_at</th>\n",
       "      <th>revenue</th>\n",
       "      <th>payment_id</th>\n",
       "      <th>from_page</th>\n",
       "      <th>product_type</th>\n",
       "      <th>data</th>\n",
       "    </tr>\n",
       "  </thead>\n",
       "  <tbody>\n",
       "    <tr>\n",
       "      <th>65</th>\n",
       "      <td>960936960</td>\n",
       "      <td>Russian Federation</td>\n",
       "      <td>2015-01-19 11:49:00</td>\n",
       "      <td>2016-12-14 17:30:00</td>\n",
       "      <td>26.0</td>\n",
       "      <td>0.0</td>\n",
       "      <td>refund_VP</td>\n",
       "      <td>other_type</td>\n",
       "      <td>control_1</td>\n",
       "    </tr>\n",
       "    <tr>\n",
       "      <th>101</th>\n",
       "      <td>960936960</td>\n",
       "      <td>Russian Federation</td>\n",
       "      <td>2015-01-19 11:49:00</td>\n",
       "      <td>2016-12-14 17:35:00</td>\n",
       "      <td>637.0</td>\n",
       "      <td>0.0</td>\n",
       "      <td>refung_AP</td>\n",
       "      <td>other_type</td>\n",
       "      <td>control_1</td>\n",
       "    </tr>\n",
       "    <tr>\n",
       "      <th>224</th>\n",
       "      <td>960936960</td>\n",
       "      <td>Russian Federation</td>\n",
       "      <td>2015-01-19 11:49:00</td>\n",
       "      <td>2016-12-14 16:16:00</td>\n",
       "      <td>143.0</td>\n",
       "      <td>0.0</td>\n",
       "      <td>refund_WP</td>\n",
       "      <td>other_type</td>\n",
       "      <td>control_1</td>\n",
       "    </tr>\n",
       "  </tbody>\n",
       "</table>\n",
       "</div>"
      ],
      "text/plain": [
       "           uid             country           joined_at             paid_at  \\\n",
       "65   960936960  Russian Federation 2015-01-19 11:49:00 2016-12-14 17:30:00   \n",
       "101  960936960  Russian Federation 2015-01-19 11:49:00 2016-12-14 17:35:00   \n",
       "224  960936960  Russian Federation 2015-01-19 11:49:00 2016-12-14 16:16:00   \n",
       "\n",
       "     revenue  payment_id  from_page product_type       data  \n",
       "65      26.0         0.0  refund_VP   other_type  control_1  \n",
       "101    637.0         0.0  refung_AP   other_type  control_1  \n",
       "224    143.0         0.0  refund_WP   other_type  control_1  "
      ]
     },
     "execution_count": 200,
     "metadata": {},
     "output_type": "execute_result"
    }
   ],
   "source": [
    "df_transact.query('joined_at == \"2015-01-19 11:49:00\"')"
   ]
  },
  {
   "cell_type": "code",
   "execution_count": 201,
   "metadata": {},
   "outputs": [
    {
     "data": {
      "text/plain": [
       "<matplotlib.axes._subplots.AxesSubplot at 0x7f53fbc2b908>"
      ]
     },
     "execution_count": 201,
     "metadata": {},
     "output_type": "execute_result"
    },
    {
     "data": {
      "image/png": "[encoded data removed]",
      "text/plain": [
       "<Figure size 1080x360 with 1 Axes>"
      ]
     },
     "metadata": {},
     "output_type": "display_data"
    }
   ],
   "source": [
    "sns.kdeplot(data=df_transact.query('joined_at > \"2016-12-01\"'), x=\"joined_at\",\n",
    "            color = 'r', hue = 'data')"
   ]
  },
  {
   "cell_type": "raw",
   "metadata": {},
   "source": [
    "Как можно заметить, первые 3 пользователя зарегистрировались в 2015 году и не являются участниками тестовой группы, а основной поток пользователей пошел лишь через два года. В таком случае можно предположить, что это были разработчики приложения, а релиз приложения произошел в 2017 году, что и объясняет резкий рост пользователей. "
   ]
  },
  {
   "cell_type": "markdown",
   "metadata": {},
   "source": [
    "Для получения корректных результатов эксперимента их следует убрать."
   ]
  },
  {
   "cell_type": "code",
   "execution_count": 202,
   "metadata": {},
   "outputs": [],
   "source": [
    "df_transact = df_transact.query('joined_at != \"2015-01-19 11:49:00\"')"
   ]
  },
  {
   "cell_type": "code",
   "execution_count": 203,
   "metadata": {},
   "outputs": [
    {
     "data": {
      "text/html": [
       "<div>\n",
       "<style scoped>\n",
       "    .dataframe tbody tr th:only-of-type {\n",
       "        vertical-align: middle;\n",
       "    }\n",
       "\n",
       "    .dataframe tbody tr th {\n",
       "        vertical-align: top;\n",
       "    }\n",
       "\n",
       "    .dataframe thead th {\n",
       "        text-align: right;\n",
       "    }\n",
       "</style>\n",
       "<table border=\"1\" class=\"dataframe\">\n",
       "  <thead>\n",
       "    <tr style=\"text-align: right;\">\n",
       "      <th></th>\n",
       "      <th>uid</th>\n",
       "      <th>country</th>\n",
       "      <th>joined_at</th>\n",
       "      <th>paid_at</th>\n",
       "      <th>revenue</th>\n",
       "      <th>payment_id</th>\n",
       "      <th>from_page</th>\n",
       "      <th>product_type</th>\n",
       "      <th>data</th>\n",
       "    </tr>\n",
       "  </thead>\n",
       "  <tbody>\n",
       "    <tr>\n",
       "      <th>11</th>\n",
       "      <td>891861048</td>\n",
       "      <td>Canada</td>\n",
       "      <td>2017-10-26 02:55:00</td>\n",
       "      <td>2017-10-11 19:00:00</td>\n",
       "      <td>3588.0</td>\n",
       "      <td>68.0</td>\n",
       "      <td>none</td>\n",
       "      <td>premium_no_trial</td>\n",
       "      <td>test</td>\n",
       "    </tr>\n",
       "    <tr>\n",
       "      <th>20</th>\n",
       "      <td>891806280</td>\n",
       "      <td>United States of America</td>\n",
       "      <td>2017-10-27 08:56:00</td>\n",
       "      <td>2017-03-11 10:57:00</td>\n",
       "      <td>8242.0</td>\n",
       "      <td>147.0</td>\n",
       "      <td>trial_vip_popup</td>\n",
       "      <td>trial_premium</td>\n",
       "      <td>test</td>\n",
       "    </tr>\n",
       "    <tr>\n",
       "      <th>24</th>\n",
       "      <td>891786216</td>\n",
       "      <td>Spain</td>\n",
       "      <td>2017-10-27 18:20:00</td>\n",
       "      <td>2017-03-11 20:20:00</td>\n",
       "      <td>12818.0</td>\n",
       "      <td>147.0</td>\n",
       "      <td>trial_vip_popup</td>\n",
       "      <td>trial_premium</td>\n",
       "      <td>test</td>\n",
       "    </tr>\n",
       "    <tr>\n",
       "      <th>25</th>\n",
       "      <td>892057347</td>\n",
       "      <td>France</td>\n",
       "      <td>2017-10-21 23:15:00</td>\n",
       "      <td>2017-08-11 01:56:00</td>\n",
       "      <td>1209.0</td>\n",
       "      <td>19.0</td>\n",
       "      <td>none</td>\n",
       "      <td>coins</td>\n",
       "      <td>test</td>\n",
       "    </tr>\n",
       "    <tr>\n",
       "      <th>36</th>\n",
       "      <td>891589239</td>\n",
       "      <td>Italy</td>\n",
       "      <td>2017-10-31 14:16:00</td>\n",
       "      <td>2017-09-11 15:44:00</td>\n",
       "      <td>6305.0</td>\n",
       "      <td>19.0</td>\n",
       "      <td>empty_likes</td>\n",
       "      <td>coins</td>\n",
       "      <td>test</td>\n",
       "    </tr>\n",
       "    <tr>\n",
       "      <th>...</th>\n",
       "      <td>...</td>\n",
       "      <td>...</td>\n",
       "      <td>...</td>\n",
       "      <td>...</td>\n",
       "      <td>...</td>\n",
       "      <td>...</td>\n",
       "      <td>...</td>\n",
       "      <td>...</td>\n",
       "      <td>...</td>\n",
       "    </tr>\n",
       "    <tr>\n",
       "      <th>305</th>\n",
       "      <td>891606141</td>\n",
       "      <td>United States of America</td>\n",
       "      <td>2017-10-31 04:43:00</td>\n",
       "      <td>2017-03-11 21:13:00</td>\n",
       "      <td>3783.0</td>\n",
       "      <td>67.0</td>\n",
       "      <td>empty_likes</td>\n",
       "      <td>other_type</td>\n",
       "      <td>control_2</td>\n",
       "    </tr>\n",
       "    <tr>\n",
       "      <th>313</th>\n",
       "      <td>891691062</td>\n",
       "      <td>Belgium</td>\n",
       "      <td>2017-10-29 16:19:00</td>\n",
       "      <td>2017-05-11 18:35:00</td>\n",
       "      <td>16614.0</td>\n",
       "      <td>147.0</td>\n",
       "      <td>popular_users_block</td>\n",
       "      <td>trial_premium</td>\n",
       "      <td>control_2</td>\n",
       "    </tr>\n",
       "    <tr>\n",
       "      <th>314</th>\n",
       "      <td>892075512</td>\n",
       "      <td>United States of America</td>\n",
       "      <td>2017-10-21 16:58:00</td>\n",
       "      <td>2017-08-11 12:18:00</td>\n",
       "      <td>9958.0</td>\n",
       "      <td>147.0</td>\n",
       "      <td>trial_vip_popup</td>\n",
       "      <td>trial_premium</td>\n",
       "      <td>control_2</td>\n",
       "    </tr>\n",
       "    <tr>\n",
       "      <th>315</th>\n",
       "      <td>891722802</td>\n",
       "      <td>United States of America</td>\n",
       "      <td>2017-10-29 02:08:00</td>\n",
       "      <td>2017-05-11 05:49:00</td>\n",
       "      <td>12727.0</td>\n",
       "      <td>147.0</td>\n",
       "      <td>trial_vip_popup</td>\n",
       "      <td>trial_premium</td>\n",
       "      <td>control_2</td>\n",
       "    </tr>\n",
       "    <tr>\n",
       "      <th>319</th>\n",
       "      <td>891673269</td>\n",
       "      <td>United Arab Emirates</td>\n",
       "      <td>2017-10-29 21:40:00</td>\n",
       "      <td>2017-05-11 23:49:00</td>\n",
       "      <td>13247.0</td>\n",
       "      <td>147.0</td>\n",
       "      <td>dating</td>\n",
       "      <td>trial_premium</td>\n",
       "      <td>control_2</td>\n",
       "    </tr>\n",
       "  </tbody>\n",
       "</table>\n",
       "<p>162 rows × 9 columns</p>\n",
       "</div>"
      ],
      "text/plain": [
       "           uid                   country           joined_at  \\\n",
       "11   891861048                    Canada 2017-10-26 02:55:00   \n",
       "20   891806280  United States of America 2017-10-27 08:56:00   \n",
       "24   891786216                     Spain 2017-10-27 18:20:00   \n",
       "25   892057347                    France 2017-10-21 23:15:00   \n",
       "36   891589239                     Italy 2017-10-31 14:16:00   \n",
       "..         ...                       ...                 ...   \n",
       "305  891606141  United States of America 2017-10-31 04:43:00   \n",
       "313  891691062                   Belgium 2017-10-29 16:19:00   \n",
       "314  892075512  United States of America 2017-10-21 16:58:00   \n",
       "315  891722802  United States of America 2017-10-29 02:08:00   \n",
       "319  891673269      United Arab Emirates 2017-10-29 21:40:00   \n",
       "\n",
       "                paid_at  revenue  payment_id            from_page  \\\n",
       "11  2017-10-11 19:00:00   3588.0        68.0                 none   \n",
       "20  2017-03-11 10:57:00   8242.0       147.0      trial_vip_popup   \n",
       "24  2017-03-11 20:20:00  12818.0       147.0      trial_vip_popup   \n",
       "25  2017-08-11 01:56:00   1209.0        19.0                 none   \n",
       "36  2017-09-11 15:44:00   6305.0        19.0          empty_likes   \n",
       "..                  ...      ...         ...                  ...   \n",
       "305 2017-03-11 21:13:00   3783.0        67.0          empty_likes   \n",
       "313 2017-05-11 18:35:00  16614.0       147.0  popular_users_block   \n",
       "314 2017-08-11 12:18:00   9958.0       147.0      trial_vip_popup   \n",
       "315 2017-05-11 05:49:00  12727.0       147.0      trial_vip_popup   \n",
       "319 2017-05-11 23:49:00  13247.0       147.0               dating   \n",
       "\n",
       "         product_type       data  \n",
       "11   premium_no_trial       test  \n",
       "20      trial_premium       test  \n",
       "24      trial_premium       test  \n",
       "25              coins       test  \n",
       "36              coins       test  \n",
       "..                ...        ...  \n",
       "305        other_type  control_2  \n",
       "313     trial_premium  control_2  \n",
       "314     trial_premium  control_2  \n",
       "315     trial_premium  control_2  \n",
       "319     trial_premium  control_2  \n",
       "\n",
       "[162 rows x 9 columns]"
      ]
     },
     "execution_count": 203,
     "metadata": {},
     "output_type": "execute_result"
    }
   ],
   "source": [
    "df_transact.query('joined_at > paid_at')"
   ]
  },
  {
   "cell_type": "markdown",
   "metadata": {},
   "source": [
    "Можно заметить странное явление. Дата оплаты за подписку у пользователя раньше даты регистрации, что в принципе не возможно. Такие данные могут быть вызваны ошибкой в системе и их следует убрать."
   ]
  },
  {
   "cell_type": "code",
   "execution_count": 204,
   "metadata": {},
   "outputs": [],
   "source": [
    "df_transact = df_transact.drop(df_transact[df_transact['joined_at'] > df_transact['paid_at']].index)\n"
   ]
  },
  {
   "cell_type": "markdown",
   "metadata": {},
   "source": [
    "Стоит обратить внимание на условие: \"Был проведен A/B тест, в рамках которого для новых пользователей из нескольких стран была изменена стоимость премиум-подписки* при покупке через две новые платежные системы. При этом стоимость пробного периода оставалась прежней.\" То есть стоит взять пользователей из тех стран, которые были только в тесте. "
   ]
  },
  {
   "cell_type": "code",
   "execution_count": 205,
   "metadata": {},
   "outputs": [
    {
     "data": {
      "text/html": [
       "<div>\n",
       "<style scoped>\n",
       "    .dataframe tbody tr th:only-of-type {\n",
       "        vertical-align: middle;\n",
       "    }\n",
       "\n",
       "    .dataframe tbody tr th {\n",
       "        vertical-align: top;\n",
       "    }\n",
       "\n",
       "    .dataframe thead th {\n",
       "        text-align: right;\n",
       "    }\n",
       "</style>\n",
       "<table border=\"1\" class=\"dataframe\">\n",
       "  <thead>\n",
       "    <tr style=\"text-align: right;\">\n",
       "      <th>data</th>\n",
       "      <th>country</th>\n",
       "      <th>control_1</th>\n",
       "      <th>control_2</th>\n",
       "      <th>test</th>\n",
       "    </tr>\n",
       "  </thead>\n",
       "  <tbody>\n",
       "    <tr>\n",
       "      <th>0</th>\n",
       "      <td>Algeria</td>\n",
       "      <td>2</td>\n",
       "      <td>0</td>\n",
       "      <td>2</td>\n",
       "    </tr>\n",
       "    <tr>\n",
       "      <th>1</th>\n",
       "      <td>Argentina</td>\n",
       "      <td>389</td>\n",
       "      <td>397</td>\n",
       "      <td>396</td>\n",
       "    </tr>\n",
       "    <tr>\n",
       "      <th>2</th>\n",
       "      <td>Armenia</td>\n",
       "      <td>1</td>\n",
       "      <td>0</td>\n",
       "      <td>0</td>\n",
       "    </tr>\n",
       "    <tr>\n",
       "      <th>3</th>\n",
       "      <td>Australia</td>\n",
       "      <td>50</td>\n",
       "      <td>51</td>\n",
       "      <td>62</td>\n",
       "    </tr>\n",
       "    <tr>\n",
       "      <th>4</th>\n",
       "      <td>Austria</td>\n",
       "      <td>0</td>\n",
       "      <td>2</td>\n",
       "      <td>0</td>\n",
       "    </tr>\n",
       "  </tbody>\n",
       "</table>\n",
       "</div>"
      ],
      "text/plain": [
       "data    country  control_1  control_2  test\n",
       "0       Algeria          2          0     2\n",
       "1     Argentina        389        397   396\n",
       "2       Armenia          1          0     0\n",
       "3     Australia         50         51    62\n",
       "4       Austria          0          2     0"
      ]
     },
     "execution_count": 205,
     "metadata": {},
     "output_type": "execute_result"
    }
   ],
   "source": [
    "df_transact_2 = df_transact.groupby(['country', 'data'], as_index=False).agg({'uid': 'count'}).rename(columns = {'uid': 'amount'})\n",
    "pivot = df_3.pivot_table(index = 'country', columns='data', values='amount', fill_value=0).reset_index()\n",
    "pivot.head()"
   ]
  },
  {
   "cell_type": "code",
   "execution_count": 206,
   "metadata": {},
   "outputs": [],
   "source": [
    "wer_1 = list(pivot.query('control_1 != 0 and control_2 != 0 and test != 0').country)"
   ]
  },
  {
   "cell_type": "code",
   "execution_count": 207,
   "metadata": {},
   "outputs": [],
   "source": [
    "df_transact = df_transact.query('country in @wer_1')"
   ]
  },
  {
   "cell_type": "markdown",
   "metadata": {},
   "source": [
    "  <h2> Оценка системы сплитования"
   ]
  },
  {
   "cell_type": "markdown",
   "metadata": {},
   "source": [
    "Посмотрим на распределение пользователей по полу"
   ]
  },
  {
   "cell_type": "code",
   "execution_count": 208,
   "metadata": {},
   "outputs": [
    {
     "data": {
      "image/png": "[encoded data removed]",
      "text/plain": [
       "<Figure size 1224x360 with 1 Axes>"
      ]
     },
     "metadata": {},
     "output_type": "display_data"
    }
   ],
   "source": [
    "sns.set(rc={'figure.figsize': (17, 5)})\n",
    "df_1 =df.groupby(['gender', 'data'], as_index=False).agg({'uid': 'count'})\n",
    "sns.barplot(data=df_1, x=\"gender\", y='uid', hue=\"data\")   \n",
    "plt.show()"
   ]
  },
  {
   "cell_type": "markdown",
   "metadata": {},
   "source": [
    "Посмотрим на распределние пользователей по странам"
   ]
  },
  {
   "cell_type": "code",
   "execution_count": 209,
   "metadata": {},
   "outputs": [
    {
     "data": {
      "image/png": "[encoded data removed]",
      "text/plain": [
       "<Figure size 1224x360 with 1 Axes>"
      ]
     },
     "metadata": {},
     "output_type": "display_data"
    }
   ],
   "source": [
    "sns.set(rc={'figure.figsize': (17, 5)})\n",
    "df_2 = df.groupby(['country', 'data'], as_index=False).agg({'uid': 'count'}).sort_values('country', ascending = False)\n",
    "sns.barplot(data=df_2, x=\"country\", y='uid', hue=\"data\") \n",
    "plt.xticks(rotation=45)\n",
    "plt.show()"
   ]
  },
  {
   "cell_type": "markdown",
   "metadata": {},
   "source": [
    " Можно сделать выводы, что пользователи распределны нормально по полу и странам"
   ]
  },
  {
   "cell_type": "markdown",
   "metadata": {},
   "source": [
    "**Проверим систему сплитования сравнив контрольные группы по предложенным метрикам**"
   ]
  },
  {
   "cell_type": "markdown",
   "metadata": {},
   "source": [
    "1. ARPU (Average revenue per user) - для оценки средней выручки одного пользователя"
   ]
  },
  {
   "cell_type": "markdown",
   "metadata": {},
   "source": [
    "Данную метрику будем проверять с помощью синтетических симуляций 1000 раз"
   ]
  },
  {
   "cell_type": "code",
   "execution_count": 210,
   "metadata": {},
   "outputs": [
    {
     "data": {
      "application/vnd.jupyter.widget-view+json": {
       "model_id": "0b548fcb0b6a4d598e06f2a262f5c350",
       "version_major": 2,
       "version_minor": 0
      },
      "text/plain": [
       "HBox(children=(FloatProgress(value=0.0, max=1000.0), HTML(value='')))"
      ]
     },
     "metadata": {},
     "output_type": "display_data"
    },
    {
     "name": "stdout",
     "output_type": "stream",
     "text": [
      "\n"
     ]
    },
    {
     "data": {
      "image/png": "[encoded data removed]",
      "text/plain": [
       "<Figure size 1224x360 with 1 Axes>"
      ]
     },
     "metadata": {},
     "output_type": "display_data"
    }
   ],
   "source": [
    "simulations = 1000 # число симуляций\n",
    "n_s = 800 # число элементов, берущихся из выборки для проведения единичного t теста\n",
    "res = []\n",
    "\n",
    "d0 = df.query('data == \"control_1\"').total_revenue\n",
    "d1 = df.query('data == \"control_2\"').total_revenue\n",
    "\n",
    "# Запуск симуляций A/A теста\n",
    "for i in tqdm(range(simulations)):\n",
    "    s1 = d0.sample(n_s, replace=False).values\n",
    "    s2 = d1.sample(n_s, replace=False).values\n",
    "    res.append(stats.ttest_ind(s1, s2, equal_var=False)[1]) # сохраняем pvalue\n",
    "\n",
    "plt.hist(res, bins=50)\n",
    "plt.style.use('ggplot')\n",
    "plt.xlabel('pvalues')\n",
    "plt.ylabel('frequency')\n",
    "\n",
    "plt.show()"
   ]
  },
  {
   "cell_type": "code",
   "execution_count": 211,
   "metadata": {},
   "outputs": [
    {
     "data": {
      "text/plain": [
       "0.032"
      ]
     },
     "execution_count": 211,
     "metadata": {},
     "output_type": "execute_result"
    }
   ],
   "source": [
    "# Проверяем, что количество ложноположительных случаев не превышает альфа = 0.05\n",
    "sum(np.array(res) < 0.05) / simulations"
   ]
  },
  {
   "cell_type": "code",
   "execution_count": 212,
   "metadata": {},
   "outputs": [
    {
     "name": "stdout",
     "output_type": "stream",
     "text": [
      "ARPU control_1 = 597.654\n"
     ]
    }
   ],
   "source": [
    "print('ARPU control_1 =', round(df.query('data == \"control_1\"').total_revenue.mean(), 3))"
   ]
  },
  {
   "cell_type": "code",
   "execution_count": 213,
   "metadata": {},
   "outputs": [
    {
     "name": "stdout",
     "output_type": "stream",
     "text": [
      "ARPU control_2 = 447.264\n"
     ]
    }
   ],
   "source": [
    "print('ARPU control_2 =', round(df.query('data == \"control_2\"').total_revenue.mean(), 3))"
   ]
  },
  {
   "cell_type": "markdown",
   "metadata": {},
   "source": [
    "2. ARPPU (Average revenue per paying user) - для оценки средней выручки одного платящих пользователей"
   ]
  },
  {
   "cell_type": "code",
   "execution_count": 214,
   "metadata": {},
   "outputs": [
    {
     "data": {
      "application/vnd.jupyter.widget-view+json": {
       "model_id": "b7006de161f24a049e444c073e9fbae5",
       "version_major": 2,
       "version_minor": 0
      },
      "text/plain": [
       "HBox(children=(FloatProgress(value=0.0, max=1000.0), HTML(value='')))"
      ]
     },
     "metadata": {},
     "output_type": "display_data"
    },
    {
     "name": "stdout",
     "output_type": "stream",
     "text": [
      "\n"
     ]
    },
    {
     "data": {
      "image/png": "[encoded data removed]",
      "text/plain": [
       "<Figure size 1224x360 with 1 Axes>"
      ]
     },
     "metadata": {},
     "output_type": "display_data"
    }
   ],
   "source": [
    "simulations = 1000 # число симуляций\n",
    "n_s = 50 # число элементов, берущихся из выборки для проведения единичного t теста\n",
    "res = []\n",
    "lower_treshhold = 0\n",
    "\n",
    "d0 = df.query('data == \"control_1\" and total_revenue > 0').total_revenue\n",
    "d1 = df.query('data == \"control_2\" and total_revenue > 0').total_revenue\n",
    "\n",
    "# Запуск симуляций A/A теста\n",
    "for i in tqdm(range(simulations)):\n",
    "    s1 = d0.sample(n_s, replace=False).values\n",
    "    s2 = d1.sample(n_s, replace=False).values\n",
    "    res.append(stats.ttest_ind(s1, s2, equal_var=False)[1]) # сохраняем pvalue\n",
    "    if stats.ttest_ind(s1, s2, equal_var=False)[1] < 0.05:\n",
    "        lower_treshhold += 1\n",
    "\n",
    "plt.hist(res, bins=50)\n",
    "plt.style.use('ggplot')\n",
    "plt.xlabel('pvalues')\n",
    "plt.ylabel('frequency')\n",
    "\n",
    "plt.show()"
   ]
  },
  {
   "cell_type": "code",
   "execution_count": 215,
   "metadata": {},
   "outputs": [
    {
     "data": {
      "text/plain": [
       "0.027"
      ]
     },
     "execution_count": 215,
     "metadata": {},
     "output_type": "execute_result"
    }
   ],
   "source": [
    "# Проверяем, что количество ложноположительных случаев не превышает альфа = 0.05\n",
    "lower_treshhold / simulations  # доля p значений менее 0.05 "
   ]
  },
  {
   "cell_type": "code",
   "execution_count": 216,
   "metadata": {},
   "outputs": [
    {
     "name": "stdout",
     "output_type": "stream",
     "text": [
      "ARPPU control_1 = 13444.099\n"
     ]
    }
   ],
   "source": [
    "print('ARPPU control_1 =', round(df.query('data == \"control_1\" and total_revenue > 0').total_revenue.mean(), 3))"
   ]
  },
  {
   "cell_type": "code",
   "execution_count": 217,
   "metadata": {},
   "outputs": [
    {
     "name": "stdout",
     "output_type": "stream",
     "text": [
      "ARPPU control_2 = 10245.968\n"
     ]
    }
   ],
   "source": [
    "print('ARPPU control_2 =', round(df.query('data == \"control_2\" and total_revenue > 0').total_revenue.mean(), 3))"
   ]
  },
  {
   "cell_type": "markdown",
   "metadata": {},
   "source": [
    "**Вывод:** Таким образом можно сделать вывод, что система сплитования работает исправно, так как в данныъ отстутствует дисбаланс"
   ]
  },
  {
   "cell_type": "markdown",
   "metadata": {},
   "source": [
    "**3. Конверсия пользователя с бесплатной подпиской в вользователя с премиум аккаунтом**"
   ]
  },
  {
   "cell_type": "code",
   "execution_count": 218,
   "metadata": {},
   "outputs": [
    {
     "data": {
      "text/html": [
       "<div>\n",
       "<style scoped>\n",
       "    .dataframe tbody tr th:only-of-type {\n",
       "        vertical-align: middle;\n",
       "    }\n",
       "\n",
       "    .dataframe tbody tr th {\n",
       "        vertical-align: top;\n",
       "    }\n",
       "\n",
       "    .dataframe thead th {\n",
       "        text-align: right;\n",
       "    }\n",
       "</style>\n",
       "<table border=\"1\" class=\"dataframe\">\n",
       "  <thead>\n",
       "    <tr style=\"text-align: right;\">\n",
       "      <th>data</th>\n",
       "      <th>control_1</th>\n",
       "      <th>control_2</th>\n",
       "    </tr>\n",
       "    <tr>\n",
       "      <th>type_type</th>\n",
       "      <th></th>\n",
       "      <th></th>\n",
       "    </tr>\n",
       "  </thead>\n",
       "  <tbody>\n",
       "    <tr>\n",
       "      <th>bought</th>\n",
       "      <td>179</td>\n",
       "      <td>173</td>\n",
       "    </tr>\n",
       "    <tr>\n",
       "      <th>free</th>\n",
       "      <td>3884</td>\n",
       "      <td>3829</td>\n",
       "    </tr>\n",
       "    <tr>\n",
       "      <th>probe</th>\n",
       "      <td>256</td>\n",
       "      <td>236</td>\n",
       "    </tr>\n",
       "  </tbody>\n",
       "</table>\n",
       "</div>"
      ],
      "text/plain": [
       "data       control_1  control_2\n",
       "type_type                      \n",
       "bought           179        173\n",
       "free            3884       3829\n",
       "probe            256        236"
      ]
     },
     "execution_count": 218,
     "metadata": {},
     "output_type": "execute_result"
    }
   ],
   "source": [
    "wer= pd.crosstab(df[df['data'] != 'test'].type_type, df[df['data'] != 'test'].data)\n",
    "wer"
   ]
  },
  {
   "cell_type": "code",
   "execution_count": 219,
   "metadata": {},
   "outputs": [
    {
     "data": {
      "text/plain": [
       "0.7630804497706578"
      ]
     },
     "execution_count": 219,
     "metadata": {},
     "output_type": "execute_result"
    }
   ],
   "source": [
    "g, p, dof, expctd = chi2_contingency(wer)\n",
    "p"
   ]
  },
  {
   "cell_type": "markdown",
   "metadata": {},
   "source": [
    "Таким образом, нельзя отклонить 0 гипотезу об отсутствии влияния контрольных выборок на конверсии. То есть для обоих групп contol_1 и control_2 разница между конверсиями статистически незначимая"
   ]
  },
  {
   "cell_type": "code",
   "execution_count": 220,
   "metadata": {},
   "outputs": [
    {
     "name": "stdout",
     "output_type": "stream",
     "text": [
      "Конверсия для группы control_1 равна: 4.144 %\n"
     ]
    }
   ],
   "source": [
    "x = round(179 / (3884 + 179 + 256) * 100, 3)\n",
    "print('Конверсия для группы control_1 равна:', x, '%')"
   ]
  },
  {
   "cell_type": "code",
   "execution_count": 221,
   "metadata": {},
   "outputs": [
    {
     "name": "stdout",
     "output_type": "stream",
     "text": [
      "Конверсия для группы control_1 равна: 4.082 %\n"
     ]
    }
   ],
   "source": [
    "x_2 = round(173 / (3829 + 173 + 236) * 100, 3)\n",
    "print('Конверсия для группы control_1 равна:', x_2, '%')"
   ]
  },
  {
   "cell_type": "markdown",
   "metadata": {},
   "source": [
    "Конверсия пользователя пробной премиум-подписки в пользователя премиум-аккаунта"
   ]
  },
  {
   "cell_type": "code",
   "execution_count": 222,
   "metadata": {},
   "outputs": [
    {
     "name": "stdout",
     "output_type": "stream",
     "text": [
      "Конверсия для группы control_1 равна: 58.851 %\n"
     ]
    }
   ],
   "source": [
    "x = round(256 / (179 + 256) * 100, 3)\n",
    "print('Конверсия для группы control_1 равна:', x, '%')"
   ]
  },
  {
   "cell_type": "code",
   "execution_count": 223,
   "metadata": {},
   "outputs": [
    {
     "name": "stdout",
     "output_type": "stream",
     "text": [
      "Конверсия для группы control_1 равна: 57.702 %\n"
     ]
    }
   ],
   "source": [
    "x_2 = round(236 / (173 + 236) * 100, 3)\n",
    "print('Конверсия для группы control_1 равна:', x_2, '%')"
   ]
  },
  {
   "cell_type": "markdown",
   "metadata": {},
   "source": [
    "# Проведение А\\В теста"
   ]
  },
  {
   "cell_type": "markdown",
   "metadata": {},
   "source": [
    "Так как в результате проверки системы сплитования, мы не выявили не корректного формирования контрольных групп и статистичиеки значимой разници между ними, мы можем при проведении A/B - теста использовать только 1 группу"
   ]
  },
  {
   "cell_type": "markdown",
   "metadata": {},
   "source": [
    "Посмотрим на распределение total_revenue по группам"
   ]
  },
  {
   "cell_type": "code",
   "execution_count": 224,
   "metadata": {},
   "outputs": [
    {
     "data": {
      "text/plain": [
       "<matplotlib.axes._subplots.AxesSubplot at 0x7f53fb5cf630>"
      ]
     },
     "execution_count": 224,
     "metadata": {},
     "output_type": "execute_result"
    },
    {
     "data": {
      "image/png": "[encoded data removed]",
      "text/plain": [
       "<Figure size 1080x360 with 1 Axes>"
      ]
     },
     "metadata": {},
     "output_type": "display_data"
    }
   ],
   "source": [
    "sns.set(rc={'figure.figsize': (15, 5)})\n",
    "sns.boxplot(data=df.query('total_revenue > 0'), x=\"total_revenue\", y=\"data\")"
   ]
  },
  {
   "cell_type": "markdown",
   "metadata": {},
   "source": [
    "## Проведем A/B тест групп test/control_1"
   ]
  },
  {
   "cell_type": "markdown",
   "metadata": {},
   "source": [
    "### 1.ARPU (Average revenue per user) - средняя нормированная выручка на одного пользователя:\n"
   ]
  },
  {
   "cell_type": "code",
   "execution_count": 225,
   "metadata": {},
   "outputs": [
    {
     "name": "stdout",
     "output_type": "stream",
     "text": [
      "stat = 0.110, p = 0.000\n",
      "Данные трат для A распределены не по нормальному распределению\n"
     ]
    }
   ],
   "source": [
    "# Проверим на нормальность распределения трат для test и control_1.\n",
    "stat, p = shapiro(df.query('data == \"test\"').total_revenue.sample(n=1000, random_state=42))\n",
    "print('stat = %.3f, p = %.3f' % (stat, round(p,4)))\n",
    "if p > 0.05:\n",
    "    print(\"Данные трат для А распределены по нормальному распределению\")\n",
    "else:\n",
    "    print(\"Данные трат для A распределены не по нормальному распределению\")"
   ]
  },
  {
   "cell_type": "code",
   "execution_count": 226,
   "metadata": {},
   "outputs": [
    {
     "name": "stdout",
     "output_type": "stream",
     "text": [
      "stat = 0.033, p = 0.000\n",
      "Данные трат для test распределены не по нормальному распределению\n"
     ]
    }
   ],
   "source": [
    "stat, p = shapiro(df.query('data == \"control_1\"').total_revenue.sample(n=1000, random_state=42))\n",
    "print('stat = %.3f, p = %.3f' % (stat, round(p,4)))\n",
    "if p > 0.05:\n",
    "    print(\"Данные трат для test распределены по нормальному распределению\")\n",
    "else:\n",
    "    print(\"Данные трат для test распределены не по нормальному распределению\")"
   ]
  },
  {
   "cell_type": "markdown",
   "metadata": {},
   "source": [
    "Посмотрим на распределение средних значений в сравниваемых группах, путем многократного извлечения выборок и нахождения среднего"
   ]
  },
  {
   "cell_type": "code",
   "execution_count": 227,
   "metadata": {},
   "outputs": [],
   "source": [
    "# Посмотрим на распределение средних значений в тартах для польpователей в группе test\n",
    "stats_mean = []\n",
    "n = 1000\n",
    "for i in range(n):\n",
    "    df_sample = np.random.choice(df.query('data == \"test\" and total_revenue < 100000').total_revenue, 100, False)\n",
    "    stats_mean.append(df_sample.mean())"
   ]
  },
  {
   "cell_type": "code",
   "execution_count": 228,
   "metadata": {
    "scrolled": true
   },
   "outputs": [
    {
     "name": "stderr",
     "output_type": "stream",
     "text": [
      "/opt/tljh/user/lib/python3.7/site-packages/seaborn/distributions.py:2557: FutureWarning: `distplot` is a deprecated function and will be removed in a future version. Please adapt your code to use either `displot` (a figure-level function with similar flexibility) or `histplot` (an axes-level function for histograms).\n",
      "  warnings.warn(msg, FutureWarning)\n"
     ]
    },
    {
     "data": {
      "text/plain": [
       "<matplotlib.axes._subplots.AxesSubplot at 0x7f53fb342d30>"
      ]
     },
     "execution_count": 228,
     "metadata": {},
     "output_type": "execute_result"
    },
    {
     "data": {
      "image/png": "[encoded data removed]",
      "text/plain": [
       "<Figure size 1080x360 with 1 Axes>"
      ]
     },
     "metadata": {},
     "output_type": "display_data"
    }
   ],
   "source": [
    "sns.distplot(stats_mean)"
   ]
  },
  {
   "cell_type": "code",
   "execution_count": 229,
   "metadata": {},
   "outputs": [],
   "source": [
    "# Посмотрим на распределение средних значений в тартах для польхователей в группе control_1\n",
    "stats_mean_2 = []\n",
    "n = 1000\n",
    "for i in range(n):\n",
    "    df_sample = np.random.choice(df.query('data == \"control_1\" and total_revenue < 100000').total_revenue, 100, False)\n",
    "    stats_mean_2.append(df_sample.mean())"
   ]
  },
  {
   "cell_type": "code",
   "execution_count": 230,
   "metadata": {},
   "outputs": [
    {
     "name": "stderr",
     "output_type": "stream",
     "text": [
      "/opt/tljh/user/lib/python3.7/site-packages/seaborn/distributions.py:2557: FutureWarning: `distplot` is a deprecated function and will be removed in a future version. Please adapt your code to use either `displot` (a figure-level function with similar flexibility) or `histplot` (an axes-level function for histograms).\n",
      "  warnings.warn(msg, FutureWarning)\n"
     ]
    },
    {
     "data": {
      "text/plain": [
       "<matplotlib.axes._subplots.AxesSubplot at 0x7f53fbff79e8>"
      ]
     },
     "execution_count": 230,
     "metadata": {},
     "output_type": "execute_result"
    },
    {
     "data": {
      "image/png": "[encoded data removed]",
      "text/plain": [
       "<Figure size 1080x360 with 1 Axes>"
      ]
     },
     "metadata": {},
     "output_type": "display_data"
    }
   ],
   "source": [
    "sns.distplot(stats_mean_2)"
   ]
  },
  {
   "cell_type": "markdown",
   "metadata": {},
   "source": [
    "Можно сделать вывод, что среднее значение в группах распределенны нормально"
   ]
  },
  {
   "cell_type": "markdown",
   "metadata": {},
   "source": [
    "**ВЫВОД:** Распределения total_revenue по выборкам не являются нормальными, дисперсии являются негомогенными, распределение средних значений является нормальным. Поэтому для данной задачи по оценке статистической значимости различий среднего total_revenue можно использовать метод T-тест, так как основное требование к применению т-теста - это нормальность распределения среднего.\n"
   ]
  },
  {
   "cell_type": "markdown",
   "metadata": {},
   "source": [
    " H0 - изменение цены подписки в двух новых платежных системах не влияет на среднюю выручку на одного пользователя  \n",
    " H1 - влияние имеется."
   ]
  },
  {
   "cell_type": "code",
   "execution_count": 231,
   "metadata": {},
   "outputs": [
    {
     "data": {
      "text/html": [
       "<div>\n",
       "<style scoped>\n",
       "    .dataframe tbody tr th:only-of-type {\n",
       "        vertical-align: middle;\n",
       "    }\n",
       "\n",
       "    .dataframe tbody tr th {\n",
       "        vertical-align: top;\n",
       "    }\n",
       "\n",
       "    .dataframe thead th {\n",
       "        text-align: right;\n",
       "    }\n",
       "</style>\n",
       "<table border=\"1\" class=\"dataframe\">\n",
       "  <thead>\n",
       "    <tr style=\"text-align: right;\">\n",
       "      <th></th>\n",
       "      <th>ARPU</th>\n",
       "    </tr>\n",
       "    <tr>\n",
       "      <th>data</th>\n",
       "      <th></th>\n",
       "    </tr>\n",
       "  </thead>\n",
       "  <tbody>\n",
       "    <tr>\n",
       "      <th>control_1</th>\n",
       "      <td>597.653855</td>\n",
       "    </tr>\n",
       "    <tr>\n",
       "      <th>test</th>\n",
       "      <td>536.342074</td>\n",
       "    </tr>\n",
       "  </tbody>\n",
       "</table>\n",
       "</div>"
      ],
      "text/plain": [
       "                 ARPU\n",
       "data                 \n",
       "control_1  597.653855\n",
       "test       536.342074"
      ]
     },
     "execution_count": 231,
     "metadata": {},
     "output_type": "execute_result"
    }
   ],
   "source": [
    "df.query('data != \"control_2\"').groupby('data').agg({'total_revenue': 'mean'}).rename(columns={'total_revenue': 'ARPU'})"
   ]
  },
  {
   "cell_type": "code",
   "execution_count": 232,
   "metadata": {},
   "outputs": [
    {
     "data": {
      "text/plain": [
       "Ttest_indResult(statistic=0.11282712393588963, pvalue=0.9101702518624388)"
      ]
     },
     "execution_count": 232,
     "metadata": {},
     "output_type": "execute_result"
    }
   ],
   "source": [
    "rvs_1 = df.query('data == \"control_1\" and total_revenue < 100000').total_revenue\n",
    "rvs_2 = df.query('data == \"test\" and total_revenue < 100000').total_revenue\n",
    "stats.ttest_ind(rvs_1, rvs_2)"
   ]
  },
  {
   "cell_type": "markdown",
   "metadata": {},
   "source": [
    "Полученный результат говорит о том, что данные не различаются статистически значимо.  \n",
    "pvalue > 0.05  \n",
    "Принимаем нулевую гипотезу"
   ]
  },
  {
   "cell_type": "markdown",
   "metadata": {},
   "source": [
    "## 2.ARPPU (Average revenue per paying user) - средняя выручка на одного платящего пользователя"
   ]
  },
  {
   "cell_type": "markdown",
   "metadata": {},
   "source": [
    " Проверим на нормальность распределения трат платящих юзеров."
   ]
  },
  {
   "cell_type": "code",
   "execution_count": 233,
   "metadata": {},
   "outputs": [
    {
     "name": "stdout",
     "output_type": "stream",
     "text": [
      "stat = 0.175, p = 0.000\n",
      "Данные трат для control_1 имеют не нормальное распределение\n"
     ]
    }
   ],
   "source": [
    "stat, p = shapiro(df.query('data == \"control_1\" and total_revenue > 0').total_revenue)\n",
    "print('stat = %.3f, p = %.3f' % (stat, round(p,4)))\n",
    "if p > 0.05:\n",
    "    print(\"Данные трат для control_1 имеют нормальное распределение \")\n",
    "else:\n",
    "    print(\"Данные трат для control_1 имеют не нормальное распределение\")"
   ]
  },
  {
   "cell_type": "code",
   "execution_count": 234,
   "metadata": {},
   "outputs": [
    {
     "name": "stdout",
     "output_type": "stream",
     "text": [
      "stat = 0.551, p = 0.000\n",
      "Данные трат для test имеют не нормальное распределение\n"
     ]
    }
   ],
   "source": [
    "stat, p = shapiro(df.query('data == \"test\" and total_revenue > 0').total_revenue)\n",
    "print('stat = %.3f, p = %.3f' % (stat, round(p,4)))\n",
    "if p > 0.05:\n",
    "    print(\"Данные трат для test имеют нормальное распределение \")\n",
    "else:\n",
    "    print(\"Данные трат для test имеют не нормальное распределение\")"
   ]
  },
  {
   "cell_type": "markdown",
   "metadata": {},
   "source": [
    "Посмотрим на распределение средних значений в сравниваемых группах, путем многократного извлечения выборок и нахождения среднего"
   ]
  },
  {
   "cell_type": "code",
   "execution_count": 235,
   "metadata": {},
   "outputs": [],
   "source": [
    "# Посмотрим на распределение средних значений в тартах для польхователей в группе control_1\n",
    "stats_mean_3 = []\n",
    "n = 1000\n",
    "for i in range(n):\n",
    "    df_sample = np.random.choice(df.query('data == \"control_1\" and 0 < total_revenue < 100000').total_revenue, 100, False)\n",
    "    stats_mean_3.append(df_sample.mean())"
   ]
  },
  {
   "cell_type": "code",
   "execution_count": 236,
   "metadata": {},
   "outputs": [
    {
     "name": "stderr",
     "output_type": "stream",
     "text": [
      "/opt/tljh/user/lib/python3.7/site-packages/seaborn/distributions.py:2557: FutureWarning: `distplot` is a deprecated function and will be removed in a future version. Please adapt your code to use either `displot` (a figure-level function with similar flexibility) or `histplot` (an axes-level function for histograms).\n",
      "  warnings.warn(msg, FutureWarning)\n"
     ]
    },
    {
     "data": {
      "text/plain": [
       "<matplotlib.axes._subplots.AxesSubplot at 0x7f53fb50b6a0>"
      ]
     },
     "execution_count": 236,
     "metadata": {},
     "output_type": "execute_result"
    },
    {
     "data": {
      "image/png": "[encoded data removed]",
      "text/plain": [
       "<Figure size 1080x360 with 1 Axes>"
      ]
     },
     "metadata": {},
     "output_type": "display_data"
    }
   ],
   "source": [
    "sns.distplot(stats_mean_3)"
   ]
  },
  {
   "cell_type": "code",
   "execution_count": 237,
   "metadata": {},
   "outputs": [],
   "source": [
    "# Посмотрим на распределение средних значений в тартах для польхователей в группе test\n",
    "stats_mean_4 = []\n",
    "n = 1000\n",
    "for i in range(n):\n",
    "    df_sample = np.random.choice(df.query('data == \"control_1\" and 0 < total_revenue < 100000').total_revenue, 100, False)\n",
    "    stats_mean_4.append(df_sample.mean())"
   ]
  },
  {
   "cell_type": "code",
   "execution_count": 238,
   "metadata": {},
   "outputs": [
    {
     "name": "stderr",
     "output_type": "stream",
     "text": [
      "/opt/tljh/user/lib/python3.7/site-packages/seaborn/distributions.py:2557: FutureWarning: `distplot` is a deprecated function and will be removed in a future version. Please adapt your code to use either `displot` (a figure-level function with similar flexibility) or `histplot` (an axes-level function for histograms).\n",
      "  warnings.warn(msg, FutureWarning)\n"
     ]
    },
    {
     "data": {
      "text/plain": [
       "<matplotlib.axes._subplots.AxesSubplot at 0x7f53fb3c9cf8>"
      ]
     },
     "execution_count": 238,
     "metadata": {},
     "output_type": "execute_result"
    },
    {
     "data": {
      "image/png": "[encoded data removed]",
      "text/plain": [
       "<Figure size 1080x360 with 1 Axes>"
      ]
     },
     "metadata": {},
     "output_type": "display_data"
    }
   ],
   "source": [
    "sns.distplot(stats_mean_4)"
   ]
  },
  {
   "cell_type": "markdown",
   "metadata": {},
   "source": [
    "Можно сделать вывод, что среднее значение в группах распределенны нормально"
   ]
  },
  {
   "cell_type": "markdown",
   "metadata": {},
   "source": [
    "**ВЫВОД:** Распределения total_revenue по выборкам не являются нормальными, дисперсии являются негомогенными, распределение средних значений является нормальным. Поэтому для данной задачи по оценке статистической значимости различий среднего total_revenue можно использовать метод T-тест, так как основное требование к применению т-теста - это нормальность распределения среднего.\n"
   ]
  },
  {
   "cell_type": "markdown",
   "metadata": {},
   "source": [
    " H0 - изменение цены подписки в двух новых платежных системах не влияет на среднюю выручку на одного пользователя  \n",
    " H1 - влияние имеется."
   ]
  },
  {
   "cell_type": "code",
   "execution_count": 239,
   "metadata": {},
   "outputs": [
    {
     "data": {
      "text/html": [
       "<div>\n",
       "<style scoped>\n",
       "    .dataframe tbody tr th:only-of-type {\n",
       "        vertical-align: middle;\n",
       "    }\n",
       "\n",
       "    .dataframe tbody tr th {\n",
       "        vertical-align: top;\n",
       "    }\n",
       "\n",
       "    .dataframe thead th {\n",
       "        text-align: right;\n",
       "    }\n",
       "</style>\n",
       "<table border=\"1\" class=\"dataframe\">\n",
       "  <thead>\n",
       "    <tr style=\"text-align: right;\">\n",
       "      <th></th>\n",
       "      <th>ARPPU</th>\n",
       "    </tr>\n",
       "    <tr>\n",
       "      <th>data</th>\n",
       "      <th></th>\n",
       "    </tr>\n",
       "  </thead>\n",
       "  <tbody>\n",
       "    <tr>\n",
       "      <th>control_1</th>\n",
       "      <td>13444.098958</td>\n",
       "    </tr>\n",
       "    <tr>\n",
       "      <th>test</th>\n",
       "      <td>15798.048276</td>\n",
       "    </tr>\n",
       "  </tbody>\n",
       "</table>\n",
       "</div>"
      ],
      "text/plain": [
       "                  ARPPU\n",
       "data                   \n",
       "control_1  13444.098958\n",
       "test       15798.048276"
      ]
     },
     "execution_count": 239,
     "metadata": {},
     "output_type": "execute_result"
    }
   ],
   "source": [
    "df.query('data != \"control_2\" and total_revenue > 0').groupby('data').agg({'total_revenue': 'mean'}).rename(columns={'total_revenue': 'ARPPU'})"
   ]
  },
  {
   "cell_type": "code",
   "execution_count": 240,
   "metadata": {},
   "outputs": [
    {
     "data": {
      "text/plain": [
       "Ttest_indResult(statistic=-2.661999712501557, pvalue=0.008145765757597623)"
      ]
     },
     "execution_count": 240,
     "metadata": {},
     "output_type": "execute_result"
    }
   ],
   "source": [
    "rvs_1 = df.query('data == \"control_1\" and 0 < total_revenue < 100000').total_revenue\n",
    "rvs_2 = df.query('data == \"test\" and 0 < total_revenue < 100000').total_revenue\n",
    "stats.ttest_ind(rvs_1, rvs_2)"
   ]
  },
  {
   "cell_type": "markdown",
   "metadata": {},
   "source": [
    "Полученный результат говорит о том, что данные различаются статистически значимо.  \n",
    "pvalue > 0.05  \n",
    "Отклоняем нулевую гипотезу"
   ]
  },
  {
   "cell_type": "markdown",
   "metadata": {},
   "source": [
    "## 3. Конверсия пользователя с бесплатной подпиской в обладателя платного премиум-аккаунта и конверсия пользователя из владельца пробной подписки в обладателя платной подписки премиум аккаунта"
   ]
  },
  {
   "cell_type": "markdown",
   "metadata": {},
   "source": [
    "1) Конверсия пользователя с бесплатной подпиской в обладателя платного премиум-аккаунта:"
   ]
  },
  {
   "cell_type": "code",
   "execution_count": 241,
   "metadata": {},
   "outputs": [],
   "source": [
    "df_1 = df.query('data != \"control_2\"')"
   ]
  },
  {
   "cell_type": "code",
   "execution_count": 242,
   "metadata": {},
   "outputs": [
    {
     "name": "stderr",
     "output_type": "stream",
     "text": [
      "/opt/tljh/user/lib/python3.7/site-packages/ipykernel_launcher.py:2: SettingWithCopyWarning: \n",
      "A value is trying to be set on a copy of a slice from a DataFrame.\n",
      "Try using .loc[row_indexer,col_indexer] = value instead\n",
      "\n",
      "See the caveats in the documentation: https://pandas.pydata.org/pandas-docs/stable/user_guide/indexing.html#returning-a-view-versus-a-copy\n",
      "  \n"
     ]
    }
   ],
   "source": [
    "df_1['user_type'] = df_1['type_type']\\\n",
    "    .apply(lambda x: 'free+probe' if x != 'bought' else 'bought')"
   ]
  },
  {
   "cell_type": "code",
   "execution_count": 243,
   "metadata": {},
   "outputs": [
    {
     "data": {
      "text/html": [
       "<div>\n",
       "<style scoped>\n",
       "    .dataframe tbody tr th:only-of-type {\n",
       "        vertical-align: middle;\n",
       "    }\n",
       "\n",
       "    .dataframe tbody tr th {\n",
       "        vertical-align: top;\n",
       "    }\n",
       "\n",
       "    .dataframe thead th {\n",
       "        text-align: right;\n",
       "    }\n",
       "</style>\n",
       "<table border=\"1\" class=\"dataframe\">\n",
       "  <thead>\n",
       "    <tr style=\"text-align: right;\">\n",
       "      <th>data</th>\n",
       "      <th>control_1</th>\n",
       "      <th>test</th>\n",
       "    </tr>\n",
       "    <tr>\n",
       "      <th>user_type</th>\n",
       "      <th></th>\n",
       "      <th></th>\n",
       "    </tr>\n",
       "  </thead>\n",
       "  <tbody>\n",
       "    <tr>\n",
       "      <th>bought</th>\n",
       "      <td>179</td>\n",
       "      <td>139</td>\n",
       "    </tr>\n",
       "    <tr>\n",
       "      <th>free+probe</th>\n",
       "      <td>4140</td>\n",
       "      <td>4132</td>\n",
       "    </tr>\n",
       "  </tbody>\n",
       "</table>\n",
       "</div>"
      ],
      "text/plain": [
       "data        control_1  test\n",
       "user_type                  \n",
       "bought            179   139\n",
       "free+probe       4140  4132"
      ]
     },
     "execution_count": 243,
     "metadata": {},
     "output_type": "execute_result"
    }
   ],
   "source": [
    "tabAB= pd.crosstab(df_1.user_type, df_1.data)\n",
    "tabAB"
   ]
  },
  {
   "cell_type": "code",
   "execution_count": 244,
   "metadata": {},
   "outputs": [
    {
     "name": "stdout",
     "output_type": "stream",
     "text": [
      "р уровень значимости равен: 0.033408281158805585 , то есть р < 0.05\n"
     ]
    }
   ],
   "source": [
    "g, p, dof, expctd = chi2_contingency(tabAB)\n",
    "print('р уровень значимости равен:', p, ', то есть р < 0.05')"
   ]
  },
  {
   "cell_type": "markdown",
   "metadata": {},
   "source": [
    "Таким образом, мы определили, что при изменении цены подписки на премиум аккаунт конверсия пользователя с бесплатной подпиской в обладателя платного премиум-аккаунта именилась статистически существенно. (а именно - уменьшилась)"
   ]
  },
  {
   "cell_type": "markdown",
   "metadata": {},
   "source": [
    "2) Конверсия пользователя из владельца пробной подписки в обладателя платной подписки премиум аккаунта:"
   ]
  },
  {
   "cell_type": "code",
   "execution_count": 245,
   "metadata": {},
   "outputs": [
    {
     "data": {
      "text/html": [
       "<div>\n",
       "<style scoped>\n",
       "    .dataframe tbody tr th:only-of-type {\n",
       "        vertical-align: middle;\n",
       "    }\n",
       "\n",
       "    .dataframe tbody tr th {\n",
       "        vertical-align: top;\n",
       "    }\n",
       "\n",
       "    .dataframe thead th {\n",
       "        text-align: right;\n",
       "    }\n",
       "</style>\n",
       "<table border=\"1\" class=\"dataframe\">\n",
       "  <thead>\n",
       "    <tr style=\"text-align: right;\">\n",
       "      <th>data</th>\n",
       "      <th>control_1</th>\n",
       "      <th>test</th>\n",
       "    </tr>\n",
       "    <tr>\n",
       "      <th>user_type</th>\n",
       "      <th></th>\n",
       "      <th></th>\n",
       "    </tr>\n",
       "  </thead>\n",
       "  <tbody>\n",
       "    <tr>\n",
       "      <th>bought</th>\n",
       "      <td>179</td>\n",
       "      <td>139</td>\n",
       "    </tr>\n",
       "    <tr>\n",
       "      <th>free+probe</th>\n",
       "      <td>256</td>\n",
       "      <td>266</td>\n",
       "    </tr>\n",
       "  </tbody>\n",
       "</table>\n",
       "</div>"
      ],
      "text/plain": [
       "data        control_1  test\n",
       "user_type                  \n",
       "bought            179   139\n",
       "free+probe        256   266"
      ]
     },
     "execution_count": 245,
     "metadata": {},
     "output_type": "execute_result"
    }
   ],
   "source": [
    "tabAB2= pd.crosstab(df_1.query('type_type != \"free\"').user_type, df_1.query('type_type != \"free\"').data)\n",
    "tabAB2"
   ]
  },
  {
   "cell_type": "code",
   "execution_count": 246,
   "metadata": {},
   "outputs": [
    {
     "name": "stdout",
     "output_type": "stream",
     "text": [
      "р уровень значимости равен: 0.049106725574160834 , то есть р < 0.05\n"
     ]
    }
   ],
   "source": [
    "g, p, dof, expctd = chi2_contingency(tabAB2)\n",
    "print('р уровень значимости равен:', p, ', то есть р < 0.05')"
   ]
  },
  {
   "cell_type": "markdown",
   "metadata": {},
   "source": [
    "Таким образом, мы определили, что при изменении цены подписки на премиум аккаунт конверсия пользователя из владельца пробной подписки в обладателя платной подписки премиум аккаунта изменилась статистически значимо. (а именно - уменьшилась)"
   ]
  },
  {
   "cell_type": "markdown",
   "metadata": {},
   "source": [
    "**Вывод:** В результате проведенного исследования можно сдлеать вывод, что изменение цены на подписку смогло только статистически \n",
    "значимо повысить среднюю выручку на одного платящего пользователя ARPPU (Average revenue per paying user).\n",
    "\n",
    "По моему мнению эксперимент можно считать неуспешным. Так как повышение цены смогло привести к доходности от и так \n",
    "платящих пользователей. А основной задачей такой компании должна стоять цель, такая как привлечение новых пользователей на покупку платной подписки.  \n",
    "Так же при исследовании мы выявили, что после изминения цены доля людей, продлевающих пробную подписку, статистически значимо снизилась.\n",
    "\n",
    "    "
   ]
  }
 ],
 "metadata": {
  "kernelspec": {
   "display_name": "Python 3 (ipykernel)",
   "language": "python",
   "name": "python3"
  },
  "language_info": {
   "codemirror_mode": {
    "name": "ipython",
    "version": 3
   },
   "file_extension": ".py",
   "mimetype": "text/x-python",
   "name": "python",
   "nbconvert_exporter": "python",
   "pygments_lexer": "ipython3",
   "version": "3.12.3"
  }
 },
 "nbformat": 4,
 "nbformat_minor": 4
}
